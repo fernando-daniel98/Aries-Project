{
 "cells": [
  {
   "cell_type": "code",
   "execution_count": 1,
   "metadata": {},
   "outputs": [],
   "source": [
    "import pandas as pd\n",
    "\n",
    "import psycopg2 as pg\n",
    "\n",
    "from sqlalchemy import create_engine, Table, Column, MetaData, DATE, VARCHAR"
   ]
  },
  {
   "cell_type": "markdown",
   "metadata": {},
   "source": [
    "## Conectando com o banco de dados"
   ]
  },
  {
   "cell_type": "code",
   "execution_count": 2,
   "metadata": {},
   "outputs": [
    {
     "name": "stdout",
     "output_type": "stream",
     "text": [
      "Conexão bem-sucedida!\n"
     ]
    }
   ],
   "source": [
    "# Configurações da conexão\n",
    "usuario = 'postgres'\n",
    "senha = '123,258D'\n",
    "host = 'localhost'\n",
    "porta = '5432'\n",
    "banco_de_dados = 'my_test'\n",
    "\n",
    "# URL de conexão\n",
    "url = f\"postgresql://{usuario}:{senha}@{host}:{porta}/{banco_de_dados}\"\n",
    "\n",
    "# Criar o engine\n",
    "engine = create_engine(url)\n",
    "\n",
    "# Teste a conexão\n",
    "try:\n",
    "    connection = engine.connect()\n",
    "    print(\"Conexão bem-sucedida!\")\n",
    "except Exception as e:\n",
    "    print(f\"Erro ao conectar: {e}\")\n",
    "finally:\n",
    "    connection.close()\n"
   ]
  },
  {
   "cell_type": "markdown",
   "metadata": {},
   "source": [
    "## Inserindo arquivo csv no banco de dados conectado"
   ]
  },
  {
   "cell_type": "code",
   "execution_count": 3,
   "metadata": {},
   "outputs": [],
   "source": [
    "arquivo = '/home/ferdanielinux/desktop-linux/scripts-python/proj-aries/Dados/CNES/tbEstabelecimento202406.csv'"
   ]
  },
  {
   "cell_type": "code",
   "execution_count": 4,
   "metadata": {},
   "outputs": [
    {
     "name": "stderr",
     "output_type": "stream",
     "text": [
      "/tmp/ipykernel_1124/4038384760.py:1: DtypeWarning: Columns (0,14,15,36,45) have mixed types. Specify dtype option on import or set low_memory=False.\n",
      "  df = pd.read_csv(arquivo, sep=';', encoding = 'latin-1')\n"
     ]
    }
   ],
   "source": [
    "df = pd.read_csv(arquivo, sep=';', encoding = 'latin-1')"
   ]
  },
  {
   "cell_type": "code",
   "execution_count": 5,
   "metadata": {},
   "outputs": [
    {
     "name": "stdout",
     "output_type": "stream",
     "text": [
      "Número de linhas:  535727\n",
      "Número de colunas:  55\n"
     ]
    }
   ],
   "source": [
    "print(\"Número de linhas: \", df.shape[0])\n",
    "print(\"Número de colunas: \", df.shape[1])"
   ]
  },
  {
   "cell_type": "markdown",
   "metadata": {},
   "source": [
    "Acertando os tipos dos dados conforme o dicionário encontrado em: https://cnes.datasus.gov.br/pages/downloads/documentacao.jsp -> Dicionário de Dados do SCNES\n",
    "\n",
    "Atributos de interesse:\n",
    "CO_UNIDADE, CO_CNES, NU_CNPJ_MANTENEDORA, NO_RAZAO_SOCIAL, NO_FANTASIA, NO_LOGRADOURO, NU_ENDERECO, NO_COMPLEMENTO, NO_BAIRRO, CO_CEP, CO_REGIAO_SAUDE, NU_TELEFONE, NO_EMAIL e DT_EXPEDICAO"
   ]
  },
  {
   "cell_type": "code",
   "execution_count": 6,
   "metadata": {},
   "outputs": [],
   "source": [
    "metadata = MetaData()\n",
    "\n",
    "table_CNES = Table('table_CNES', metadata,\n",
    "                Column('CO_UNIDADE', VARCHAR(31), primary_key = True, nullable = False),\n",
    "                Column('CO_CNES', VARCHAR(7)),\n",
    "                Column('NU_CNPJ_MANTENEDORA', VARCHAR(16)),\n",
    "                Column('NO_RAZAO_SOCIAL', VARCHAR(60), nullable = False),\n",
    "                Column('NO_FANTASIA', VARCHAR(60), nullable = False),\n",
    "                Column('NO_LOGRADOURO', VARCHAR(60), nullable = False),\n",
    "                Column('NU_ENDERECO', VARCHAR(10)),\n",
    "                Column('NO_COMPLEMENTO', VARCHAR(20)),\n",
    "                Column('NO_BAIRRO', VARCHAR(20), nullable = False),\n",
    "                Column('CO_CEP', VARCHAR(8), nullable = False),\n",
    "                Column('CO_REGIAO_SAUDE', VARCHAR(4)),\n",
    "                Column('NU_TELEFONE', VARCHAR(33)),\n",
    "                Column('NO_EMAIL', VARCHAR(60)),\n",
    "                Column('DT_EXPEDICAO', VARCHAR(20))\n",
    ")"
   ]
  },
  {
   "cell_type": "code",
   "execution_count": 7,
   "metadata": {},
   "outputs": [],
   "source": [
    "metadata.create_all(engine)"
   ]
  },
  {
   "cell_type": "code",
   "execution_count": null,
   "metadata": {},
   "outputs": [],
   "source": [
    "df2 = df.filter(items = table_CNES.columns.keys())\n",
    "\n",
    "df2.head(7)"
   ]
  },
  {
   "cell_type": "code",
   "execution_count": 12,
   "metadata": {},
   "outputs": [
    {
     "name": "stderr",
     "output_type": "stream",
     "text": [
      "/tmp/ipykernel_1124/2998215887.py:2: FutureWarning: DataFrame.applymap has been deprecated. Use DataFrame.map instead.\n",
      "  max_lengths = df2.applymap(lambda x: len(str(x)) if pd.notnull(x) else 0).max()\n"
     ]
    },
    {
     "name": "stdout",
     "output_type": "stream",
     "text": [
      "CO_UNIDADE             31\n",
      "CO_CNES                 7\n",
      "NU_CNPJ_MANTENEDORA    16\n",
      "NO_RAZAO_SOCIAL        60\n",
      "NO_FANTASIA            60\n",
      "NO_LOGRADOURO          60\n",
      "NU_ENDERECO            10\n",
      "NO_COMPLEMENTO         20\n",
      "NO_BAIRRO              20\n",
      "CO_CEP                  8\n",
      "CO_REGIAO_SAUDE         4\n",
      "NU_TELEFONE            33\n",
      "NO_EMAIL               60\n",
      "DT_EXPEDICAO           20\n",
      "dtype: int64\n"
     ]
    }
   ],
   "source": [
    "# Calcula o tamanho máximo de cada coluna no dataframe\n",
    "max_lengths = df2.applymap(lambda x: len(str(x)) if pd.notnull(x) else 0).max()\n",
    "\n",
    "print(max_lengths)"
   ]
  },
  {
   "cell_type": "markdown",
   "metadata": {},
   "source": [
    "Colocando todos os dados presentes no df2 no banco de dados criado"
   ]
  },
  {
   "cell_type": "code",
   "execution_count": 13,
   "metadata": {},
   "outputs": [
    {
     "data": {
      "text/plain": [
       "500"
      ]
     },
     "execution_count": 13,
     "metadata": {},
     "output_type": "execute_result"
    }
   ],
   "source": [
    "# Inserir apenas os dez primeiros dados no banco de dados\n",
    "df2.head(500).to_sql('table_CNES', engine, if_exists = 'replace', index = False, dtype = {\n",
    "    'CO_UNIDADE': VARCHAR(31),\n",
    "    'CO_CNES': VARCHAR(7),\n",
    "    'NU_CNPJ_MANTENEDORA': VARCHAR(16),\n",
    "    'NO_RAZAO_SOCIAL': VARCHAR(60),\n",
    "    'NO_FANTASIA': VARCHAR(60),\n",
    "    'NO_LOGRADOURO': VARCHAR(60),\n",
    "    'NU_ENDERECO': VARCHAR(10),\n",
    "    'NO_COMPLEMENTO': VARCHAR(20),\n",
    "    'NO_BAIRRO': VARCHAR(20),\n",
    "    'CO_CEP': VARCHAR(8),\n",
    "    'CO_REGIAO_SAUDE': VARCHAR(4),\n",
    "    'NU_TELEFONE': VARCHAR(33),\n",
    "    'NO_EMAIL': VARCHAR(60),\n",
    "    'DT_EXPEDICAO': VARCHAR(20)\n",
    "})"
   ]
  },
  {
   "cell_type": "markdown",
   "metadata": {},
   "source": [
    "## Criando o tabelão com todos os dados e inserindo no banco"
   ]
  }
 ],
 "metadata": {
  "kernelspec": {
   "display_name": "PyAries",
   "language": "python",
   "name": "python3"
  },
  "language_info": {
   "codemirror_mode": {
    "name": "ipython",
    "version": 3
   },
   "file_extension": ".py",
   "mimetype": "text/x-python",
   "name": "python",
   "nbconvert_exporter": "python",
   "pygments_lexer": "ipython3",
   "version": "3.10.12"
  }
 },
 "nbformat": 4,
 "nbformat_minor": 2
}
