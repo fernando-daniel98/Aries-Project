{
 "cells": [
  {
   "cell_type": "code",
   "execution_count": 1,
   "id": "c724e07e-1dde-4d55-bb37-1f36c8cc907f",
   "metadata": {},
   "outputs": [
    {
     "ename": "ModuleNotFoundError",
     "evalue": "No module named 'pysus'",
     "output_type": "error",
     "traceback": [
      "\u001b[1;31m---------------------------------------------------------------------------\u001b[0m",
      "\u001b[1;31mModuleNotFoundError\u001b[0m                       Traceback (most recent call last)",
      "Cell \u001b[1;32mIn[1], line 4\u001b[0m\n\u001b[0;32m      1\u001b[0m \u001b[38;5;66;03m# IMPORTANDO PACOTES \u001b[39;00m\n\u001b[0;32m      2\u001b[0m \u001b[38;5;28;01mimport\u001b[39;00m \u001b[38;5;21;01mpandas\u001b[39;00m \u001b[38;5;28;01mas\u001b[39;00m \u001b[38;5;21;01mpd\u001b[39;00m\n\u001b[1;32m----> 4\u001b[0m \u001b[38;5;28;01mfrom\u001b[39;00m \u001b[38;5;21;01mpysus\u001b[39;00m\u001b[38;5;21;01m.\u001b[39;00m\u001b[38;5;21;01mftp\u001b[39;00m\u001b[38;5;21;01m.\u001b[39;00m\u001b[38;5;21;01mdatabases\u001b[39;00m\u001b[38;5;21;01m.\u001b[39;00m\u001b[38;5;21;01msih\u001b[39;00m \u001b[38;5;28;01mimport\u001b[39;00m SIH\n",
      "\u001b[1;31mModuleNotFoundError\u001b[0m: No module named 'pysus'"
     ]
    }
   ],
   "source": [
    "# IMPORTANDO PACOTES \n",
    "import pandas as pd\n",
    "\n",
    "from pysus.ftp.databases.sih import SIH"
   ]
  },
  {
   "cell_type": "code",
   "execution_count": 2,
   "id": "33737f49",
   "metadata": {},
   "outputs": [
    {
     "data": {
      "text/plain": [
       "{'long_name': 'Sistema de Informações Hospitalares',\n",
       " 'source': ('https://datasus.saude.gov.br/acesso-a-informacao/morbidade-hospitalar-do-sus-sih-sus/',\n",
       "  'https://datasus.saude.gov.br/acesso-a-informacao/producao-hospitalar-sih-sus/'),\n",
       " 'description': 'A finalidade do AIH (Sistema SIHSUS) é a de transcrever todos os atendimentos que provenientes de internações hospitalares que foram financiadas pelo SUS, e após o processamento, gerarem relatórios para os gestores que lhes possibilitem fazer os pagamentos dos estabelecimentos de saúde. Além disso, o nível Federal recebe mensalmente uma base de dados de todas as internações autorizadas (aprovadas ou não para pagamento) para que possam ser repassados às Secretarias de Saúde os valores de Produção de Média e Alta complexidade além dos valores de CNRAC, FAEC e de Hospitais Universitários – em suas variadas formas de contrato de gestão.'}"
      ]
     },
     "execution_count": 2,
     "metadata": {},
     "output_type": "execute_result"
    }
   ],
   "source": [
    "sih = SIH().load()\n",
    "sih.metadata"
   ]
  },
  {
   "cell_type": "code",
   "execution_count": 16,
   "id": "032333d2",
   "metadata": {},
   "outputs": [],
   "source": [
    "group = \"RD\"\n",
    "uf = 'SP'\n",
    "# Colocando o meses de 2014 a 2023\n",
    "#year = list(range(2014,2023))\n",
    "#month = [1, 2, 3, 4, 5, 6, 7, 8, 9, 10, 11, 12]\n",
    "\n",
    "# Faltantes\n",
    "#yearMissing = 2024\n",
    "#monthMissing = list(range(1, ???))"
   ]
  },
  {
   "cell_type": "code",
   "execution_count": 17,
   "id": "a0786557",
   "metadata": {},
   "outputs": [
    {
     "data": {
      "text/plain": [
       "[RDSP1605.dbc]"
      ]
     },
     "execution_count": 17,
     "metadata": {},
     "output_type": "execute_result"
    }
   ],
   "source": [
    "files = sih.get_files(group, uf = uf, year = 2016, month = [5])\n",
    "\n",
    "files"
   ]
  },
  {
   "cell_type": "code",
   "execution_count": 18,
   "id": "ef392865",
   "metadata": {},
   "outputs": [
    {
     "name": "stdout",
     "output_type": "stream",
     "text": [
      "Descrição dos arquivos disponíveis:\n",
      "\n",
      "{'name': 'RDSP1605.dbc', 'group': 'AIH Reduzida', 'uf': 'São Paulo', 'month': 'Maio', 'year': 2016, 'size': '16.1 MB', 'last_update': '2018-01-08 03:34PM'}\n"
     ]
    },
    {
     "data": {
      "text/plain": [
       "['RDSP1605']"
      ]
     },
     "execution_count": 18,
     "metadata": {},
     "output_type": "execute_result"
    }
   ],
   "source": [
    "print(\"Descrição dos arquivos disponíveis:\\n\")\n",
    "\n",
    "for file in files:\n",
    "    print(sih.describe(file))\n",
    "    \n",
    "nomes = []\n",
    "\n",
    "for file in files:\n",
    "    nomes.append(file.name)\n",
    "    \n",
    "nomes"
   ]
  },
  {
   "cell_type": "code",
   "execution_count": 19,
   "id": "d9aa4dd7-668b-4b3c-be8d-124a0537e7e3",
   "metadata": {},
   "outputs": [
    {
     "name": "stderr",
     "output_type": "stream",
     "text": [
      "RDSP1605.dbc:   0%|          | 0.00/16.1M [00:00<?, ?B/s]"
     ]
    },
    {
     "name": "stderr",
     "output_type": "stream",
     "text": [
      "RDSP1605.parquet: 100%|██████████| 752k/752k [01:25<00:00, 8.81kB/s] \n"
     ]
    }
   ],
   "source": [
    "downloads = sih.download(files, local_dir=\"/home/ferdanielinux/desktop-linux/scripts-python/proj-aries/Dados/parquet\")"
   ]
  },
  {
   "cell_type": "code",
   "execution_count": 24,
   "id": "64d9daf8",
   "metadata": {},
   "outputs": [
    {
     "name": "stdout",
     "output_type": "stream",
     "text": [
      "<class 'pysus.data.local.ParquetSet'>\n"
     ]
    },
    {
     "data": {
      "text/html": [
       "<div>\n",
       "<style scoped>\n",
       "    .dataframe tbody tr th:only-of-type {\n",
       "        vertical-align: middle;\n",
       "    }\n",
       "\n",
       "    .dataframe tbody tr th {\n",
       "        vertical-align: top;\n",
       "    }\n",
       "\n",
       "    .dataframe thead th {\n",
       "        text-align: right;\n",
       "    }\n",
       "</style>\n",
       "<table border=\"1\" class=\"dataframe\">\n",
       "  <thead>\n",
       "    <tr style=\"text-align: right;\">\n",
       "      <th></th>\n",
       "      <th>UF_ZI</th>\n",
       "      <th>ANO_CMPT</th>\n",
       "      <th>MES_CMPT</th>\n",
       "      <th>ESPEC</th>\n",
       "      <th>CGC_HOSP</th>\n",
       "      <th>N_AIH</th>\n",
       "      <th>IDENT</th>\n",
       "      <th>CEP</th>\n",
       "      <th>MUNIC_RES</th>\n",
       "      <th>NASC</th>\n",
       "      <th>...</th>\n",
       "      <th>DIAGSEC9</th>\n",
       "      <th>TPDISEC1</th>\n",
       "      <th>TPDISEC2</th>\n",
       "      <th>TPDISEC3</th>\n",
       "      <th>TPDISEC4</th>\n",
       "      <th>TPDISEC5</th>\n",
       "      <th>TPDISEC6</th>\n",
       "      <th>TPDISEC7</th>\n",
       "      <th>TPDISEC8</th>\n",
       "      <th>TPDISEC9</th>\n",
       "    </tr>\n",
       "  </thead>\n",
       "  <tbody>\n",
       "    <tr>\n",
       "      <th>0</th>\n",
       "      <td>351000</td>\n",
       "      <td>2016</td>\n",
       "      <td>05</td>\n",
       "      <td>03</td>\n",
       "      <td>50832898000132</td>\n",
       "      <td>3516112762085</td>\n",
       "      <td>1</td>\n",
       "      <td>19880000</td>\n",
       "      <td>351000</td>\n",
       "      <td>19601106</td>\n",
       "      <td>...</td>\n",
       "      <td></td>\n",
       "      <td>0</td>\n",
       "      <td>0</td>\n",
       "      <td>0</td>\n",
       "      <td>0</td>\n",
       "      <td>0</td>\n",
       "      <td>0</td>\n",
       "      <td>0</td>\n",
       "      <td>0</td>\n",
       "      <td>0</td>\n",
       "    </tr>\n",
       "    <tr>\n",
       "      <th>1</th>\n",
       "      <td>351000</td>\n",
       "      <td>2016</td>\n",
       "      <td>05</td>\n",
       "      <td>03</td>\n",
       "      <td>50832898000132</td>\n",
       "      <td>3516112762096</td>\n",
       "      <td>1</td>\n",
       "      <td>19880000</td>\n",
       "      <td>351000</td>\n",
       "      <td>19540128</td>\n",
       "      <td>...</td>\n",
       "      <td></td>\n",
       "      <td>0</td>\n",
       "      <td>0</td>\n",
       "      <td>0</td>\n",
       "      <td>0</td>\n",
       "      <td>0</td>\n",
       "      <td>0</td>\n",
       "      <td>0</td>\n",
       "      <td>0</td>\n",
       "      <td>0</td>\n",
       "    </tr>\n",
       "    <tr>\n",
       "      <th>2</th>\n",
       "      <td>351000</td>\n",
       "      <td>2016</td>\n",
       "      <td>05</td>\n",
       "      <td>03</td>\n",
       "      <td>50832898000132</td>\n",
       "      <td>3516112762130</td>\n",
       "      <td>1</td>\n",
       "      <td>19880000</td>\n",
       "      <td>351000</td>\n",
       "      <td>19501026</td>\n",
       "      <td>...</td>\n",
       "      <td></td>\n",
       "      <td>0</td>\n",
       "      <td>0</td>\n",
       "      <td>0</td>\n",
       "      <td>0</td>\n",
       "      <td>0</td>\n",
       "      <td>0</td>\n",
       "      <td>0</td>\n",
       "      <td>0</td>\n",
       "      <td>0</td>\n",
       "    </tr>\n",
       "    <tr>\n",
       "      <th>3</th>\n",
       "      <td>351000</td>\n",
       "      <td>2016</td>\n",
       "      <td>05</td>\n",
       "      <td>03</td>\n",
       "      <td>50832898000132</td>\n",
       "      <td>3516112762206</td>\n",
       "      <td>1</td>\n",
       "      <td>19880000</td>\n",
       "      <td>351000</td>\n",
       "      <td>19481129</td>\n",
       "      <td>...</td>\n",
       "      <td></td>\n",
       "      <td>0</td>\n",
       "      <td>0</td>\n",
       "      <td>0</td>\n",
       "      <td>0</td>\n",
       "      <td>0</td>\n",
       "      <td>0</td>\n",
       "      <td>0</td>\n",
       "      <td>0</td>\n",
       "      <td>0</td>\n",
       "    </tr>\n",
       "    <tr>\n",
       "      <th>4</th>\n",
       "      <td>351000</td>\n",
       "      <td>2016</td>\n",
       "      <td>05</td>\n",
       "      <td>03</td>\n",
       "      <td>50832898000132</td>\n",
       "      <td>3516112762217</td>\n",
       "      <td>1</td>\n",
       "      <td>19880000</td>\n",
       "      <td>351000</td>\n",
       "      <td>19430601</td>\n",
       "      <td>...</td>\n",
       "      <td></td>\n",
       "      <td>0</td>\n",
       "      <td>0</td>\n",
       "      <td>0</td>\n",
       "      <td>0</td>\n",
       "      <td>0</td>\n",
       "      <td>0</td>\n",
       "      <td>0</td>\n",
       "      <td>0</td>\n",
       "      <td>0</td>\n",
       "    </tr>\n",
       "  </tbody>\n",
       "</table>\n",
       "<p>5 rows × 113 columns</p>\n",
       "</div>"
      ],
      "text/plain": [
       "    UF_ZI ANO_CMPT MES_CMPT ESPEC        CGC_HOSP          N_AIH IDENT  \\\n",
       "0  351000     2016       05    03  50832898000132  3516112762085     1   \n",
       "1  351000     2016       05    03  50832898000132  3516112762096     1   \n",
       "2  351000     2016       05    03  50832898000132  3516112762130     1   \n",
       "3  351000     2016       05    03  50832898000132  3516112762206     1   \n",
       "4  351000     2016       05    03  50832898000132  3516112762217     1   \n",
       "\n",
       "        CEP MUNIC_RES      NASC  ...  DIAGSEC9 TPDISEC1 TPDISEC2 TPDISEC3  \\\n",
       "0  19880000    351000  19601106  ...                  0        0        0   \n",
       "1  19880000    351000  19540128  ...                  0        0        0   \n",
       "2  19880000    351000  19501026  ...                  0        0        0   \n",
       "3  19880000    351000  19481129  ...                  0        0        0   \n",
       "4  19880000    351000  19430601  ...                  0        0        0   \n",
       "\n",
       "  TPDISEC4 TPDISEC5 TPDISEC6 TPDISEC7 TPDISEC8 TPDISEC9  \n",
       "0        0        0        0        0        0        0  \n",
       "1        0        0        0        0        0        0  \n",
       "2        0        0        0        0        0        0  \n",
       "3        0        0        0        0        0        0  \n",
       "4        0        0        0        0        0        0  \n",
       "\n",
       "[5 rows x 113 columns]"
      ]
     },
     "execution_count": 24,
     "metadata": {},
     "output_type": "execute_result"
    }
   ],
   "source": [
    "parquetTest = downloads\n",
    "df = parquetTest.to_dataframe()\n",
    "print(type(parquetTest))\n",
    "df.head()"
   ]
  },
  {
   "cell_type": "code",
   "execution_count": 25,
   "id": "cf43c48f",
   "metadata": {},
   "outputs": [
    {
     "name": "stdout",
     "output_type": "stream",
     "text": [
      "['__annotations__', '__class__', '__delattr__', '__dict__', '__dir__', '__doc__', '__eq__', '__format__', '__ge__', '__getattribute__', '__gt__', '__hash__', '__init__', '__init_subclass__', '__le__', '__lt__', '__module__', '__ne__', '__new__', '__path__', '__reduce__', '__reduce_ex__', '__repr__', '__setattr__', '__sizeof__', '__str__', '__subclasshook__', '__weakref__', 'info', 'path', 'to_dataframe']\n"
     ]
    }
   ],
   "source": [
    "# Vendo o que possou de possibilidades com o objeto tipo pysus.data.local.ParquetSet\n",
    "\n",
    "print(dir(parquetTest))"
   ]
  },
  {
   "cell_type": "code",
   "execution_count": 22,
   "id": "0eb1f9f0",
   "metadata": {},
   "outputs": [],
   "source": [
    "\n",
    "\n",
    "df.to_csv(f\"/home/ferdanielinux/desktop-linux/scripts-python/proj-aries/Dados/csv/{nomes[0]}.csv\", sep = ';', encoding='ISO-8859-1', index = False)"
   ]
  },
  {
   "cell_type": "code",
   "execution_count": 23,
   "id": "071b14ba",
   "metadata": {},
   "outputs": [
    {
     "data": {
      "text/plain": [
       "UF_ZI       string[python]\n",
       "ANO_CMPT    string[python]\n",
       "MES_CMPT    string[python]\n",
       "ESPEC       string[python]\n",
       "CGC_HOSP    string[python]\n",
       "                 ...      \n",
       "TPDISEC5    string[python]\n",
       "TPDISEC6    string[python]\n",
       "TPDISEC7    string[python]\n",
       "TPDISEC8    string[python]\n",
       "TPDISEC9    string[python]\n",
       "Length: 113, dtype: object"
      ]
     },
     "execution_count": 23,
     "metadata": {},
     "output_type": "execute_result"
    }
   ],
   "source": [
    "# Verificando o tipo de cada atributo\n",
    "\n",
    "df.dtypes"
   ]
  }
 ],
 "metadata": {
  "kernelspec": {
   "display_name": "Python 3",
   "language": "python",
   "name": "python3"
  },
  "language_info": {
   "codemirror_mode": {
    "name": "ipython",
    "version": 3
   },
   "file_extension": ".py",
   "mimetype": "text/x-python",
   "name": "python",
   "nbconvert_exporter": "python",
   "pygments_lexer": "ipython3",
   "version": "undefined.undefined.undefined"
  }
 },
 "nbformat": 4,
 "nbformat_minor": 5
}
