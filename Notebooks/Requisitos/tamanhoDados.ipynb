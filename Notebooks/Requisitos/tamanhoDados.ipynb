{
 "cells": [
  {
   "cell_type": "markdown",
   "metadata": {},
   "source": [
    "# Análise dos dados do SIH-SUS"
   ]
  },
  {
   "cell_type": "code",
   "execution_count": 34,
   "metadata": {},
   "outputs": [],
   "source": [
    "from pysus.ftp.databases.sih import SIH"
   ]
  },
  {
   "cell_type": "code",
   "execution_count": null,
   "metadata": {},
   "outputs": [],
   "source": [
    "sih = SIH().load()\n",
    "\n",
    "sih.metadata"
   ]
  },
  {
   "cell_type": "markdown",
   "metadata": {},
   "source": [
    "## Analisando o tamanho dos dados apenas das AIH Reduzidas do Estado de São Paulo"
   ]
  },
  {
   "cell_type": "code",
   "execution_count": 9,
   "metadata": {},
   "outputs": [],
   "source": [
    "group = \"RD\"\n",
    "uf = \"SP\"\n",
    "\n",
    "# Todos os 12 meses\n",
    "month = [1, 2, 3, 4, 5, 6, 7, 8, 9, 10, 11, 12]\n",
    "\n",
    "# Dos anos de 2014 até 2024\n",
    "year = [2014, 2015, 2016, 2017, 2018, 2019, 2020, 2021, 2022, 2023, 2024]"
   ]
  },
  {
   "cell_type": "code",
   "execution_count": 10,
   "metadata": {},
   "outputs": [
    {
     "name": "stdout",
     "output_type": "stream",
     "text": [
      "[RDSP1401.dbc, RDSP1402.dbc, RDSP1403.dbc, RDSP1404.dbc, RDSP1405.dbc, RDSP1406.dbc, RDSP1407.dbc, RDSP1408.dbc, RDSP1409.dbc, RDSP1410.dbc, RDSP1411.dbc, RDSP1412.dbc, RDSP1501.dbc, RDSP1502.dbc, RDSP1503.dbc, RDSP1504.dbc, RDSP1505.dbc, RDSP1506.dbc, RDSP1507.dbc, RDSP1508.dbc, RDSP1509.dbc, RDSP1510.dbc, RDSP1511.dbc, RDSP1512.dbc, RDSP1601.dbc, RDSP1602.dbc, RDSP1603.dbc, RDSP1604.dbc, RDSP1605.dbc, RDSP1606.dbc, RDSP1607.dbc, RDSP1608.dbc, RDSP1609.dbc, RDSP1610.dbc, RDSP1611.dbc, RDSP1612.dbc, RDSP1701.dbc, RDSP1702.dbc, RDSP1703.dbc, RDSP1704.dbc, RDSP1705.dbc, RDSP1706.dbc, RDSP1707.dbc, RDSP1708.dbc, RDSP1709.dbc, RDSP1710.dbc, RDSP1711.dbc, RDSP1712.dbc, RDSP1801.dbc, RDSP1802.dbc, RDSP1803.dbc, RDSP1804.dbc, RDSP1805.dbc, RDSP1806.dbc, RDSP1807.dbc, RDSP1808.dbc, RDSP1809.dbc, RDSP1810.dbc, RDSP1811.dbc, RDSP1812.dbc, RDSP1901.dbc, RDSP1902.dbc, RDSP1903.dbc, RDSP1904.dbc, RDSP1905.dbc, RDSP1906.dbc, RDSP1907.dbc, RDSP1908.dbc, RDSP1909.dbc, RDSP1910.dbc, RDSP1911.dbc, RDSP1912.dbc, RDSP2001.dbc, RDSP2002.dbc, RDSP2003.dbc, RDSP2004.dbc, RDSP2005.dbc, RDSP2006.dbc, RDSP2007.dbc, RDSP2008.dbc, RDSP2009.dbc, RDSP2010.dbc, RDSP2011.dbc, RDSP2012.dbc, RDSP2101.dbc, RDSP2102.dbc, RDSP2103.dbc, RDSP2104.dbc, RDSP2105.dbc, RDSP2106.dbc, RDSP2107.dbc, RDSP2108.dbc, RDSP2109.dbc, RDSP2110.dbc, RDSP2111.dbc, RDSP2112.dbc, RDSP2201.dbc, RDSP2202.dbc, RDSP2203.dbc, RDSP2204.dbc, RDSP2205.dbc, RDSP2206.dbc, RDSP2207.dbc, RDSP2208.dbc, RDSP2209.dbc, RDSP2210.dbc, RDSP2211.dbc, RDSP2212.dbc, RDSP2301.dbc, RDSP2302.dbc, RDSP2303.dbc, RDSP2304.dbc, RDSP2305.dbc, RDSP2306.dbc, RDSP2307.dbc, RDSP2308.dbc, RDSP2309.dbc, RDSP2310.dbc, RDSP2311.dbc, RDSP2312.dbc, RDSP2401.dbc, RDSP2402.dbc, RDSP2403.dbc, RDSP2404.dbc, RDSP2405.dbc, RDSP2406.dbc, RDSP2407.dbc]\n"
     ]
    }
   ],
   "source": [
    "files = sih.get_files(group, uf, year, month)\n",
    "\n",
    "print(files)"
   ]
  },
  {
   "cell_type": "code",
   "execution_count": 11,
   "metadata": {},
   "outputs": [],
   "source": [
    "acum = 0\n",
    "\n",
    "for file in files:\n",
    "    strNum = file.__info__[\"size\"]\n",
    "    acum += int(strNum)\n"
   ]
  },
  {
   "cell_type": "code",
   "execution_count": 13,
   "metadata": {},
   "outputs": [
    {
     "name": "stdout",
     "output_type": "stream",
     "text": [
      "O número de bytes acumulados para od dados do Estado de São Paulo é: 2042308147 = 1994441.55 KB = 1947.70 MB = 1.90 GB\n"
     ]
    }
   ],
   "source": [
    "print(f\"O número de bytes acumulados para od dados do Estado de São Paulo é: {acum} = {acum/1024:.2f} KB = {acum/1024/1024:.2f} MB = {acum/1024/1024/1024:.2f} GB\")"
   ]
  },
  {
   "cell_type": "markdown",
   "metadata": {},
   "source": [
    "## Uma breve análise dos dados das AIH RDs de todo o país\n",
    "Estou pegando apenas os dados que são de 2014 para cá, pois antes disso os dados estão em formatos diferentes."
   ]
  },
  {
   "cell_type": "code",
   "execution_count": 25,
   "metadata": {},
   "outputs": [],
   "source": [
    "group = \"RD\"\n",
    "\n",
    "# Vetor que contém todos os estados do Brasil\n",
    "ufs = [\"AC\", \"AL\", \"AP\", \"AM\", \"BA\", \"CE\", \"DF\", \"ES\", \"GO\", \"MA\", \"MT\", \"MS\", \"MG\", \"PA\", \"PB\", \"PR\", \"PE\", \"PI\", \"RJ\", \"RN\", \"RS\", \"RO\", \"RR\", \"SC\", \"SP\", \"SE\", \"TO\"]\n",
    "\n",
    "month = [1, 2, 3, 4, 5, 6, 7, 8, 9, 10, 11, 12]\n",
    "year = [2014, 2015, 2016, 2017, 2018, 2019, 2020, 2021, 2022, 2023, 2024]"
   ]
  },
  {
   "cell_type": "code",
   "execution_count": null,
   "metadata": {},
   "outputs": [],
   "source": [
    "files2 = []\n",
    "\n",
    "for uf in ufs:\n",
    "    files2.append(sih.get_files(group, uf, year, month))\n",
    "\n",
    "files2"
   ]
  },
  {
   "cell_type": "code",
   "execution_count": 38,
   "metadata": {},
   "outputs": [
    {
     "name": "stdout",
     "output_type": "stream",
     "text": [
      "O número de bytes acumulados para AC é: 37034811 = 36166.81 KB = 35.32 MB = 0.03 GB\n",
      "O número de bytes acumulados para AL é: 127216541 = 124234.90 KB = 121.32 MB = 0.12 GB\n",
      "O número de bytes acumulados para AP é: 27234931 = 26596.61 KB = 25.97 MB = 0.03 GB\n",
      "O número de bytes acumulados para AM é: 134726307 = 131568.66 KB = 128.49 MB = 0.13 GB\n",
      "O número de bytes acumulados para BA é: 621188917 = 606629.80 KB = 592.41 MB = 0.58 GB\n",
      "O número de bytes acumulados para CE é: 380481201 = 371563.67 KB = 362.86 MB = 0.35 GB\n",
      "O número de bytes acumulados para DF é: 170877634 = 166872.69 KB = 162.96 MB = 0.16 GB\n",
      "O número de bytes acumulados para ES é: 202478111 = 197732.53 KB = 193.10 MB = 0.19 GB\n",
      "O número de bytes acumulados para GO é: 274165058 = 267739.31 KB = 261.46 MB = 0.26 GB\n",
      "O número de bytes acumulados para MA é: 311837221 = 304528.54 KB = 297.39 MB = 0.29 GB\n",
      "O número de bytes acumulados para MT é: 150985983 = 147447.25 KB = 143.99 MB = 0.14 GB\n",
      "O número de bytes acumulados para MS é: 140260329 = 136972.98 KB = 133.76 MB = 0.13 GB\n",
      "O número de bytes acumulados para MG é: 1041397065 = 1016989.32 KB = 993.15 MB = 0.97 GB\n",
      "O número de bytes acumulados para PA é: 340068098 = 332097.75 KB = 324.31 MB = 0.32 GB\n",
      "O número de bytes acumulados para PB é: 149280642 = 145781.88 KB = 142.37 MB = 0.14 GB\n",
      "O número de bytes acumulados para PR é: 677937301 = 662048.15 KB = 646.53 MB = 0.63 GB\n",
      "O número de bytes acumulados para PE é: 436828113 = 426589.95 KB = 416.59 MB = 0.41 GB\n",
      "O número de bytes acumulados para PI é: 159406388 = 155670.30 KB = 152.02 MB = 0.15 GB\n",
      "O número de bytes acumulados para RJ é: 593977067 = 580055.73 KB = 566.46 MB = 0.55 GB\n",
      "O número de bytes acumulados para RN é: 135525212 = 132348.84 KB = 129.25 MB = 0.13 GB\n",
      "O número de bytes acumulados para RS é: 617956761 = 603473.40 KB = 589.33 MB = 0.58 GB\n",
      "O número de bytes acumulados para RO é: 85553415 = 83548.26 KB = 81.59 MB = 0.08 GB\n",
      "O número de bytes acumulados para RR é: 32095991 = 31343.74 KB = 30.61 MB = 0.03 GB\n",
      "O número de bytes acumulados para SC é: 402541816 = 393107.24 KB = 383.89 MB = 0.37 GB\n",
      "O número de bytes acumulados para SP é: 2042308147 = 1994441.55 KB = 1947.70 MB = 1.90 GB\n",
      "O número de bytes acumulados para SE é: 73642055 = 71916.07 KB = 70.23 MB = 0.07 GB\n",
      "O número de bytes acumulados para TO é: 67640470 = 66055.15 KB = 64.51 MB = 0.06 GB\n",
      "O disco total ocupado para os dados de \n",
      " ['AC', 'AL', 'AP', 'AM', 'BA', 'CE', 'DF', 'ES', 'GO', 'MA', 'MT', 'MS', 'MG', 'PA', 'PB', 'PR', 'PE', 'PI', 'RJ', 'RN', 'RS', 'RO', 'RR', 'SC', 'SP', 'SE', 'TO'] \n",
      "é: 9434645585 = 9213521.08 KB = 8997.58 MB = 8.79 GB\n"
     ]
    }
   ],
   "source": [
    "acum_total = 0\n",
    "\n",
    "for i, files in enumerate(files2):\n",
    "    acum = 0\n",
    "    for file in files:\n",
    "        strNum = file.__info__[\"size\"]\n",
    "        acum += int(strNum)\n",
    "    \n",
    "    acum_total += acum\n",
    "    print(f\"O número de bytes acumulados para {ufs[i]} é: {acum} = {acum/1024:.2f} KB = {acum/1024/1024:.2f} MB = {acum/1024/1024/1024:.2f} GB\")\n",
    "    \n",
    "print(f\"O disco total ocupado para os dados de \\n {ufs} \\né: {acum_total} = {acum_total/1024:.2f} KB = {acum_total/1024/1024:.2f} MB = {acum_total/1024/1024/1024:.2f} GB\")"
   ]
  },
  {
   "cell_type": "code",
   "execution_count": null,
   "metadata": {},
   "outputs": [],
   "source": []
  },
  {
   "cell_type": "markdown",
   "metadata": {},
   "source": [
    "# Análise dos dados para o SIM-SUS"
   ]
  },
  {
   "cell_type": "code",
   "execution_count": 1,
   "metadata": {},
   "outputs": [],
   "source": [
    "from pysus.ftp.databases.sim import SIM"
   ]
  },
  {
   "cell_type": "code",
   "execution_count": 3,
   "metadata": {},
   "outputs": [
    {
     "data": {
      "text/plain": [
       "{'long_name': 'Sistema de Informação sobre Mortalidade',\n",
       " 'source': 'http://sim.saude.gov.br',\n",
       " 'description': ''}"
      ]
     },
     "execution_count": 3,
     "metadata": {},
     "output_type": "execute_result"
    }
   ],
   "source": [
    "sim = SIM().load()\n",
    "\n",
    "sim.metadata"
   ]
  },
  {
   "cell_type": "code",
   "execution_count": 5,
   "metadata": {},
   "outputs": [],
   "source": [
    "group = 'CID10'\n",
    "uf = 'SP'\n",
    "\n",
    "# months = [1, 2, 3, 4, 5, 6, 7, 8, 9, 10, 11, 12]\n",
    "year = [2014, 2015, 2016, ]"
   ]
  },
  {
   "cell_type": "code",
   "execution_count": 8,
   "metadata": {},
   "outputs": [],
   "source": [
    "files = sim.get_files(group, uf, year)"
   ]
  }
 ],
 "metadata": {
  "kernelspec": {
   "display_name": "PyAries",
   "language": "python",
   "name": "python3"
  },
  "language_info": {
   "codemirror_mode": {
    "name": "ipython",
    "version": 3
   },
   "file_extension": ".py",
   "mimetype": "text/x-python",
   "name": "python",
   "nbconvert_exporter": "python",
   "pygments_lexer": "ipython3",
   "version": "3.10.12"
  }
 },
 "nbformat": 4,
 "nbformat_minor": 2
}
