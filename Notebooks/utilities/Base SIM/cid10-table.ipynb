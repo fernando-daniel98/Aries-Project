{
 "cells": [
  {
   "cell_type": "markdown",
   "metadata": {},
   "source": [
    "# Analisando os dados do SIM"
   ]
  },
  {
   "cell_type": "code",
   "execution_count": 1,
   "metadata": {},
   "outputs": [
    {
     "ename": "ModuleNotFoundError",
     "evalue": "No module named 'pysus'",
     "output_type": "error",
     "traceback": [
      "\u001b[1;31m---------------------------------------------------------------------------\u001b[0m",
      "\u001b[1;31mModuleNotFoundError\u001b[0m                       Traceback (most recent call last)",
      "Cell \u001b[1;32mIn[1], line 1\u001b[0m\n\u001b[1;32m----> 1\u001b[0m \u001b[38;5;28;01mfrom\u001b[39;00m \u001b[38;5;21;01mpysus\u001b[39;00m\u001b[38;5;21;01m.\u001b[39;00m\u001b[38;5;21;01mftp\u001b[39;00m\u001b[38;5;21;01m.\u001b[39;00m\u001b[38;5;21;01mdatabases\u001b[39;00m\u001b[38;5;21;01m.\u001b[39;00m\u001b[38;5;21;01msim\u001b[39;00m \u001b[38;5;28;01mimport\u001b[39;00m SIM\n",
      "\u001b[1;31mModuleNotFoundError\u001b[0m: No module named 'pysus'"
     ]
    }
   ],
   "source": [
    "from pysus.ftp.databases.sim import SIM"
   ]
  },
  {
   "cell_type": "code",
   "execution_count": 2,
   "metadata": {},
   "outputs": [],
   "source": [
    "sim = SIM().load() # Loads the files from DATASUS"
   ]
  },
  {
   "cell_type": "code",
   "execution_count": 3,
   "metadata": {},
   "outputs": [
    {
     "data": {
      "text/plain": [
       "{'long_name': 'Sistema de Informação sobre Mortalidade',\n",
       " 'source': 'http://sim.saude.gov.br',\n",
       " 'description': ''}"
      ]
     },
     "execution_count": 3,
     "metadata": {},
     "output_type": "execute_result"
    }
   ],
   "source": [
    "sim.metadata"
   ]
  },
  {
   "cell_type": "code",
   "execution_count": 28,
   "metadata": {},
   "outputs": [
    {
     "data": {
      "text/plain": [
       "{'CID10': 'DO', 'CID9': 'DOR'}"
      ]
     },
     "execution_count": 28,
     "metadata": {},
     "output_type": "execute_result"
    }
   ],
   "source": [
    "sim.groups"
   ]
  },
  {
   "cell_type": "code",
   "execution_count": 29,
   "metadata": {},
   "outputs": [
    {
     "data": {
      "text/plain": [
       "(/dissemin/publicos/SIM/CID10/DORES, /dissemin/publicos/SIM/CID9/DORES)"
      ]
     },
     "execution_count": 29,
     "metadata": {},
     "output_type": "execute_result"
    }
   ],
   "source": [
    "sim.paths"
   ]
  },
  {
   "cell_type": "markdown",
   "metadata": {},
   "source": [
    "## Baixando dados específicos"
   ]
  },
  {
   "cell_type": "code",
   "execution_count": 4,
   "metadata": {},
   "outputs": [],
   "source": [
    "group = 'CID10'\n",
    "uf = 'SP'\n",
    "\n",
    "year = [i for i in range(2014, 2021+1)]\n",
    "# month = [i for i in range(1, 12+1)]\n",
    "\n",
    "# year = 2022"
   ]
  },
  {
   "cell_type": "code",
   "execution_count": 6,
   "metadata": {},
   "outputs": [
    {
     "data": {
      "text/plain": [
       "[DOSP2014.dbc,\n",
       " DOSP2015.dbc,\n",
       " DOSP2016.dbc,\n",
       " DOSP2017.dbc,\n",
       " DOSP2018.dbc,\n",
       " DOSP2019.dbc,\n",
       " DOSP2020.dbc,\n",
       " DOSP2021.dbc]"
      ]
     },
     "execution_count": 6,
     "metadata": {},
     "output_type": "execute_result"
    }
   ],
   "source": [
    "files = sim.get_files(group, uf = uf, year = year)\n",
    "\n",
    "files"
   ]
  },
  {
   "cell_type": "code",
   "execution_count": 7,
   "metadata": {},
   "outputs": [
    {
     "ename": "AttributeError",
     "evalue": "'list' object has no attribute 'path'",
     "output_type": "error",
     "traceback": [
      "\u001b[0;31m---------------------------------------------------------------------------\u001b[0m",
      "\u001b[0;31mAttributeError\u001b[0m                            Traceback (most recent call last)",
      "Cell \u001b[0;32mIn[7], line 1\u001b[0m\n\u001b[0;32m----> 1\u001b[0m \u001b[43msim\u001b[49m\u001b[38;5;241;43m.\u001b[39;49m\u001b[43mdescribe\u001b[49m\u001b[43m(\u001b[49m\u001b[43mfiles\u001b[49m\u001b[43m)\u001b[49m\n",
      "File \u001b[0;32m~/desktop-linux/scripts-python/proj-aires/PyAries/lib/python3.10/site-packages/pysus/ftp/databases/sim.py:21\u001b[0m, in \u001b[0;36mSIM.describe\u001b[0;34m(self, file)\u001b[0m\n\u001b[1;32m     20\u001b[0m \u001b[38;5;28;01mdef\u001b[39;00m \u001b[38;5;21mdescribe\u001b[39m(\u001b[38;5;28mself\u001b[39m, file: File) \u001b[38;5;241m-\u001b[39m\u001b[38;5;241m>\u001b[39m \u001b[38;5;28mdict\u001b[39m:\n\u001b[0;32m---> 21\u001b[0m     group, _uf, year \u001b[38;5;241m=\u001b[39m \u001b[38;5;28;43mself\u001b[39;49m\u001b[38;5;241;43m.\u001b[39;49m\u001b[43mformat\u001b[49m\u001b[43m(\u001b[49m\u001b[43mfile\u001b[49m\u001b[43m)\u001b[49m\n\u001b[1;32m     22\u001b[0m     _groups \u001b[38;5;241m=\u001b[39m {v: k \u001b[38;5;28;01mfor\u001b[39;00m k, v \u001b[38;5;129;01min\u001b[39;00m \u001b[38;5;28mself\u001b[39m\u001b[38;5;241m.\u001b[39mgroups\u001b[38;5;241m.\u001b[39mitems()}\n\u001b[1;32m     24\u001b[0m     \u001b[38;5;28;01mtry\u001b[39;00m:\n",
      "File \u001b[0;32m~/desktop-linux/scripts-python/proj-aires/PyAries/lib/python3.10/site-packages/pysus/ftp/databases/sim.py:41\u001b[0m, in \u001b[0;36mSIM.format\u001b[0;34m(self, file)\u001b[0m\n\u001b[1;32m     40\u001b[0m \u001b[38;5;28;01mdef\u001b[39;00m \u001b[38;5;21mformat\u001b[39m(\u001b[38;5;28mself\u001b[39m, file: File) \u001b[38;5;241m-\u001b[39m\u001b[38;5;241m>\u001b[39m \u001b[38;5;28mtuple\u001b[39m:\n\u001b[0;32m---> 41\u001b[0m     \u001b[38;5;28;01mif\u001b[39;00m \u001b[38;5;124m\"\u001b[39m\u001b[38;5;124mCID9\u001b[39m\u001b[38;5;124m\"\u001b[39m \u001b[38;5;129;01min\u001b[39;00m \u001b[38;5;28mstr\u001b[39m(\u001b[43mfile\u001b[49m\u001b[38;5;241;43m.\u001b[39;49m\u001b[43mpath\u001b[49m):\n\u001b[1;32m     42\u001b[0m         group, _uf, year \u001b[38;5;241m=\u001b[39m file\u001b[38;5;241m.\u001b[39mname[:\u001b[38;5;241m-\u001b[39m\u001b[38;5;241m4\u001b[39m], file\u001b[38;5;241m.\u001b[39mname[\u001b[38;5;241m-\u001b[39m\u001b[38;5;241m4\u001b[39m:\u001b[38;5;241m-\u001b[39m\u001b[38;5;241m2\u001b[39m], file\u001b[38;5;241m.\u001b[39mname[\u001b[38;5;241m-\u001b[39m\u001b[38;5;241m2\u001b[39m:]\n\u001b[1;32m     43\u001b[0m     \u001b[38;5;28;01melse\u001b[39;00m:\n",
      "\u001b[0;31mAttributeError\u001b[0m: 'list' object has no attribute 'path'"
     ]
    }
   ],
   "source": [
    "sim.describe(files)"
   ]
  },
  {
   "cell_type": "code",
   "execution_count": 2,
   "metadata": {},
   "outputs": [],
   "source": [
    "stagePath = '/home/ferdanielinux/desktop-linux/scripts-python/proj-aires/Dados/SIM/stage/parquet'"
   ]
  },
  {
   "cell_type": "code",
   "execution_count": 9,
   "metadata": {},
   "outputs": [
    {
     "name": "stderr",
     "output_type": "stream",
     "text": [
      "DOSP2021.parquet: 100%|██████████| 1.06M/1.06M [01:45<00:00, 10.0kB/s]\n"
     ]
    },
    {
     "data": {
      "text/plain": [
       "[/home/ferdanielinux/desktop-linux/scripts-python/proj-aires/Dados/SIM/stage/parquet/DOSP2014.parquet,\n",
       " /home/ferdanielinux/desktop-linux/scripts-python/proj-aires/Dados/SIM/stage/parquet/DOSP2015.parquet,\n",
       " /home/ferdanielinux/desktop-linux/scripts-python/proj-aires/Dados/SIM/stage/parquet/DOSP2016.parquet,\n",
       " /home/ferdanielinux/desktop-linux/scripts-python/proj-aires/Dados/SIM/stage/parquet/DOSP2017.parquet,\n",
       " /home/ferdanielinux/desktop-linux/scripts-python/proj-aires/Dados/SIM/stage/parquet/DOSP2018.parquet,\n",
       " /home/ferdanielinux/desktop-linux/scripts-python/proj-aires/Dados/SIM/stage/parquet/DOSP2019.parquet,\n",
       " /home/ferdanielinux/desktop-linux/scripts-python/proj-aires/Dados/SIM/stage/parquet/DOSP2020.parquet,\n",
       " /home/ferdanielinux/desktop-linux/scripts-python/proj-aires/Dados/SIM/stage/parquet/DOSP2021.parquet]"
      ]
     },
     "execution_count": 9,
     "metadata": {},
     "output_type": "execute_result"
    }
   ],
   "source": [
    "sim.download(files, local_dir = stagePath)"
   ]
  },
  {
   "cell_type": "markdown",
   "metadata": {},
   "source": [
    "## Lendo dados SIM"
   ]
  },
  {
   "cell_type": "code",
   "execution_count": 2,
   "metadata": {},
   "outputs": [],
   "source": [
    "import pandas as pd\n",
    "\n",
    "import os"
   ]
  },
  {
   "cell_type": "code",
   "execution_count": 3,
   "metadata": {},
   "outputs": [
    {
     "name": "stdout",
     "output_type": "stream",
     "text": [
      "C:/Users/Fernando/Desktop/Compromissos/IC - Banco de Dados/Dados/CID-10\n"
     ]
    }
   ],
   "source": [
    "# Definir o caminho do diretório\n",
    "directory = r'C:\\Users\\Fernando\\Desktop\\Compromissos\\IC - Banco de Dados\\Dados\\CID-10'\n",
    "\n",
    "directory = directory.replace(\"\\\\\", \"/\")\n",
    "\n",
    "print(directory)\n"
   ]
  },
  {
   "cell_type": "code",
   "execution_count": 4,
   "metadata": {},
   "outputs": [
    {
     "data": {
      "text/plain": [
       "'C:/Users/Fernando/Desktop/Compromissos/IC - Banco de Dados/Dados/CID-10\\\\CID-10-SUBCATEGORIAS.csv'"
      ]
     },
     "execution_count": 4,
     "metadata": {},
     "output_type": "execute_result"
    }
   ],
   "source": [
    "# Entrando na pasta e selecionando o arquivo\n",
    "directoryFull = os.path.join(directory, 'CID-10-SUBCATEGORIAS.csv')\n",
    "    \n",
    "directoryFull"
   ]
  },
  {
   "cell_type": "code",
   "execution_count": 8,
   "metadata": {},
   "outputs": [
    {
     "data": {
      "text/html": [
       "<div>\n",
       "<style scoped>\n",
       "    .dataframe tbody tr th:only-of-type {\n",
       "        vertical-align: middle;\n",
       "    }\n",
       "\n",
       "    .dataframe tbody tr th {\n",
       "        vertical-align: top;\n",
       "    }\n",
       "\n",
       "    .dataframe thead th {\n",
       "        text-align: right;\n",
       "    }\n",
       "</style>\n",
       "<table border=\"1\" class=\"dataframe\">\n",
       "  <thead>\n",
       "    <tr style=\"text-align: right;\">\n",
       "      <th></th>\n",
       "      <th>SUBCAT</th>\n",
       "      <th>CLASSIF</th>\n",
       "      <th>RESTRSEXO</th>\n",
       "      <th>CAUSAOBITO</th>\n",
       "      <th>DESCRICAO</th>\n",
       "      <th>DESCRABREV</th>\n",
       "      <th>REFER</th>\n",
       "      <th>EXCLUIDOS</th>\n",
       "    </tr>\n",
       "  </thead>\n",
       "  <tbody>\n",
       "    <tr>\n",
       "      <th>0</th>\n",
       "      <td>A000</td>\n",
       "      <td>NaN</td>\n",
       "      <td>NaN</td>\n",
       "      <td>NaN</td>\n",
       "      <td>Cólera devida a Vibrio cholerae 01, biótipo ch...</td>\n",
       "      <td>A00.0 Colera dev Vibrio cholerae 01 biot cholerae</td>\n",
       "      <td>NaN</td>\n",
       "      <td>NaN</td>\n",
       "    </tr>\n",
       "    <tr>\n",
       "      <th>1</th>\n",
       "      <td>A001</td>\n",
       "      <td>NaN</td>\n",
       "      <td>NaN</td>\n",
       "      <td>NaN</td>\n",
       "      <td>Cólera devida a Vibrio cholerae 01, biótipo El...</td>\n",
       "      <td>A00.1 Colera dev Vibrio cholerae 01 biot El Tor</td>\n",
       "      <td>NaN</td>\n",
       "      <td>NaN</td>\n",
       "    </tr>\n",
       "    <tr>\n",
       "      <th>2</th>\n",
       "      <td>A009</td>\n",
       "      <td>NaN</td>\n",
       "      <td>NaN</td>\n",
       "      <td>NaN</td>\n",
       "      <td>Cólera não especificada</td>\n",
       "      <td>A00.9 Colera NE</td>\n",
       "      <td>NaN</td>\n",
       "      <td>NaN</td>\n",
       "    </tr>\n",
       "    <tr>\n",
       "      <th>3</th>\n",
       "      <td>A010</td>\n",
       "      <td>NaN</td>\n",
       "      <td>NaN</td>\n",
       "      <td>NaN</td>\n",
       "      <td>Febre tifóide</td>\n",
       "      <td>A01.0 Febre tifoide</td>\n",
       "      <td>NaN</td>\n",
       "      <td>NaN</td>\n",
       "    </tr>\n",
       "    <tr>\n",
       "      <th>4</th>\n",
       "      <td>A011</td>\n",
       "      <td>NaN</td>\n",
       "      <td>NaN</td>\n",
       "      <td>NaN</td>\n",
       "      <td>Febre paratifóide A</td>\n",
       "      <td>A01.1 Febre paratifoide A</td>\n",
       "      <td>NaN</td>\n",
       "      <td>NaN</td>\n",
       "    </tr>\n",
       "  </tbody>\n",
       "</table>\n",
       "</div>"
      ],
      "text/plain": [
       "  SUBCAT CLASSIF RESTRSEXO CAUSAOBITO  \\\n",
       "0   A000     NaN       NaN        NaN   \n",
       "1   A001     NaN       NaN        NaN   \n",
       "2   A009     NaN       NaN        NaN   \n",
       "3   A010     NaN       NaN        NaN   \n",
       "4   A011     NaN       NaN        NaN   \n",
       "\n",
       "                                           DESCRICAO  \\\n",
       "0  Cólera devida a Vibrio cholerae 01, biótipo ch...   \n",
       "1  Cólera devida a Vibrio cholerae 01, biótipo El...   \n",
       "2                            Cólera não especificada   \n",
       "3                                      Febre tifóide   \n",
       "4                                Febre paratifóide A   \n",
       "\n",
       "                                          DESCRABREV REFER EXCLUIDOS  \n",
       "0  A00.0 Colera dev Vibrio cholerae 01 biot cholerae   NaN       NaN  \n",
       "1    A00.1 Colera dev Vibrio cholerae 01 biot El Tor   NaN       NaN  \n",
       "2                                    A00.9 Colera NE   NaN       NaN  \n",
       "3                                A01.0 Febre tifoide   NaN       NaN  \n",
       "4                          A01.1 Febre paratifoide A   NaN       NaN  "
      ]
     },
     "execution_count": 8,
     "metadata": {},
     "output_type": "execute_result"
    }
   ],
   "source": [
    "cidParquet = pd.read_csv(directoryFull, sep = ';', encoding = 'latin1')\n",
    "\n",
    "cidParquet.head()"
   ]
  },
  {
   "cell_type": "code",
   "execution_count": 10,
   "metadata": {},
   "outputs": [
    {
     "name": "stdout",
     "output_type": "stream",
     "text": [
      "O arquivo possui 12451 linhas e 8 colunas.\n"
     ]
    }
   ],
   "source": [
    "print(f\"O arquivo possui {cidParquet.shape[0]} linhas e {cidParquet.shape[1]} colunas.\")"
   ]
  },
  {
   "cell_type": "code",
   "execution_count": 11,
   "metadata": {},
   "outputs": [
    {
     "data": {
      "text/plain": [
       "SUBCAT            0\n",
       "CLASSIF       12073\n",
       "RESTRSEXO     11577\n",
       "CAUSAOBITO    11160\n",
       "DESCRICAO         0\n",
       "DESCRABREV        0\n",
       "REFER         12294\n",
       "EXCLUIDOS     12435\n",
       "dtype: int64"
      ]
     },
     "execution_count": 11,
     "metadata": {},
     "output_type": "execute_result"
    }
   ],
   "source": [
    "#Verificando quais colunas possuem valores nulos\n",
    "cidParquet.isnull().sum()\n"
   ]
  },
  {
   "cell_type": "code",
   "execution_count": 13,
   "metadata": {},
   "outputs": [
    {
     "data": {
      "text/html": [
       "<div>\n",
       "<style scoped>\n",
       "    .dataframe tbody tr th:only-of-type {\n",
       "        vertical-align: middle;\n",
       "    }\n",
       "\n",
       "    .dataframe tbody tr th {\n",
       "        vertical-align: top;\n",
       "    }\n",
       "\n",
       "    .dataframe thead th {\n",
       "        text-align: right;\n",
       "    }\n",
       "</style>\n",
       "<table border=\"1\" class=\"dataframe\">\n",
       "  <thead>\n",
       "    <tr style=\"text-align: right;\">\n",
       "      <th></th>\n",
       "      <th>SUBCAT</th>\n",
       "      <th>DESCRICAO</th>\n",
       "      <th>DESCRABREV</th>\n",
       "    </tr>\n",
       "  </thead>\n",
       "  <tbody>\n",
       "    <tr>\n",
       "      <th>0</th>\n",
       "      <td>A000</td>\n",
       "      <td>Cólera devida a Vibrio cholerae 01, biótipo ch...</td>\n",
       "      <td>A00.0 Colera dev Vibrio cholerae 01 biot cholerae</td>\n",
       "    </tr>\n",
       "    <tr>\n",
       "      <th>1</th>\n",
       "      <td>A001</td>\n",
       "      <td>Cólera devida a Vibrio cholerae 01, biótipo El...</td>\n",
       "      <td>A00.1 Colera dev Vibrio cholerae 01 biot El Tor</td>\n",
       "    </tr>\n",
       "    <tr>\n",
       "      <th>2</th>\n",
       "      <td>A009</td>\n",
       "      <td>Cólera não especificada</td>\n",
       "      <td>A00.9 Colera NE</td>\n",
       "    </tr>\n",
       "    <tr>\n",
       "      <th>3</th>\n",
       "      <td>A010</td>\n",
       "      <td>Febre tifóide</td>\n",
       "      <td>A01.0 Febre tifoide</td>\n",
       "    </tr>\n",
       "    <tr>\n",
       "      <th>4</th>\n",
       "      <td>A011</td>\n",
       "      <td>Febre paratifóide A</td>\n",
       "      <td>A01.1 Febre paratifoide A</td>\n",
       "    </tr>\n",
       "  </tbody>\n",
       "</table>\n",
       "</div>"
      ],
      "text/plain": [
       "  SUBCAT                                          DESCRICAO  \\\n",
       "0   A000  Cólera devida a Vibrio cholerae 01, biótipo ch...   \n",
       "1   A001  Cólera devida a Vibrio cholerae 01, biótipo El...   \n",
       "2   A009                            Cólera não especificada   \n",
       "3   A010                                      Febre tifóide   \n",
       "4   A011                                Febre paratifóide A   \n",
       "\n",
       "                                          DESCRABREV  \n",
       "0  A00.0 Colera dev Vibrio cholerae 01 biot cholerae  \n",
       "1    A00.1 Colera dev Vibrio cholerae 01 biot El Tor  \n",
       "2                                    A00.9 Colera NE  \n",
       "3                                A01.0 Febre tifoide  \n",
       "4                          A01.1 Febre paratifoide A  "
      ]
     },
     "execution_count": 13,
     "metadata": {},
     "output_type": "execute_result"
    }
   ],
   "source": [
    "# Removendo as colunas que possuem valores nulos\n",
    "newDf = cidParquet.dropna(axis = 1)\n",
    "\n",
    "newDf.head()"
   ]
  },
  {
   "cell_type": "markdown",
   "metadata": {},
   "source": [
    "## Inserindo os dados no banco de dados"
   ]
  },
  {
   "cell_type": "markdown",
   "metadata": {},
   "source": [
    "### Conectando ao banco"
   ]
  },
  {
   "cell_type": "code",
   "execution_count": 14,
   "metadata": {},
   "outputs": [],
   "source": [
    "from sqlalchemy import create_engine"
   ]
  },
  {
   "cell_type": "code",
   "execution_count": 15,
   "metadata": {},
   "outputs": [
    {
     "name": "stdout",
     "output_type": "stream",
     "text": [
      "Conexão bem-sucedida!\n"
     ]
    }
   ],
   "source": [
    "# Configurações da conexão\n",
    "usuario = 'postgres'\n",
    "senha = 'dan313852*'\n",
    "host = 'localhost'\n",
    "porta = '5432'\n",
    "banco_de_dados = 'sim_database'\n",
    "\n",
    "# URL de conexão\n",
    "url = f\"postgresql://{usuario}:{senha}@{host}:{porta}/{banco_de_dados}\"\n",
    "\n",
    "engine = create_engine(url)\n",
    "\n",
    "# Teste a conexão\n",
    "try:\n",
    "    connection = engine.connect()\n",
    "    print(\"Conexão bem-sucedida!\")\n",
    "except Exception as e:\n",
    "    print(f\"Erro ao conectar: {e}\")\n",
    "finally:\n",
    "    connection.close()\n"
   ]
  },
  {
   "cell_type": "code",
   "execution_count": 18,
   "metadata": {},
   "outputs": [],
   "source": [
    "import sqlalchemy as sa"
   ]
  },
  {
   "cell_type": "markdown",
   "metadata": {},
   "source": [
    "# PAREI AQUI"
   ]
  },
  {
   "cell_type": "code",
   "execution_count": 22,
   "metadata": {},
   "outputs": [
    {
     "ename": "SyntaxError",
     "evalue": "closing parenthesis '}' does not match opening parenthesis '(' (2471913005.py, line 7)",
     "output_type": "error",
     "traceback": [
      "\u001b[1;36m  Cell \u001b[1;32mIn[22], line 7\u001b[1;36m\u001b[0m\n\u001b[1;33m    newDf.to_sql('cid10', con = engine, if_exists = 'replace', index = False, dtype = {'SUBCAT': sa.types.VARCHAR(length = 4), 'DESCRICAO': sa.types.VARCHAR(length = 100), 'DESCRABREV': sa.types.VARCHAR(length = 50})\u001b[0m\n\u001b[1;37m                                                                                                                                                                                                                      ^\u001b[0m\n\u001b[1;31mSyntaxError\u001b[0m\u001b[1;31m:\u001b[0m closing parenthesis '}' does not match opening parenthesis '('\n"
     ]
    }
   ],
   "source": [
    "# Fazendo um cast para os dados nas colunas. SUBCAT é um varchar com tamanho 4, DESCRICAO é um varchar com tamanho 100 e DESCRABREV é um varchar com tamanho 50\n",
    "newDf['SUBCAT'] = newDf['SUBCAT'].astype('str')\n",
    "newDf['DESCRICAO'] = newDf['DESCRICAO'].astype('str')\n",
    "newDf['DESCABREV'] = newDf['DESCRABREV'].astype('str')\n",
    "\n",
    "# Salvando o dataframe no banco de dados com o cast do tipo de dados\n",
    "newDf.to_sql('cid10', con = engine, if_exists = 'replace', index = False, dtype = {'SUBCAT': sa.types.VARCHAR(length = 4), 'DESCRICAO': sa.types.VARCHAR(length = 100), 'DESCRABREV': sa.types.VARCHAR(length = 50})"
   ]
  },
  {
   "cell_type": "markdown",
   "metadata": {},
   "source": [
    "### Concatenando algumas amostras de cada ano"
   ]
  },
  {
   "cell_type": "code",
   "execution_count": null,
   "metadata": {},
   "outputs": [],
   "source": [
    "# Removi a variável \"CRM\", já que ela não está presente nos dados a partir de 2019\n",
    "colunas_desejadas = [\n",
    "    \"CONTADOR\", \"ORIGEM\", \"TIPOBITO\", \"DTOBITO\", \"HORAOBITO\", \"NATURAL\",\n",
    "    \"CODMUNNATU\", \"DTNASC\", \"IDADE\", \"SEXO\", \"RACACOR\", \"ESTCIV\", \"ESC\", \n",
    "    \"ESC2010\", \"SERIESCFAL\", \"OCUP\", \"CODMUNRES\", \"LOCOCOR\", \"CODESTAB\", \n",
    "    \"ESTABDESCR\", \"CODMUNOCOR\", \"IDADEMAE\", \"ESCMAE\", \"ESCMAE2010\", \n",
    "    \"SERIESCMAE\", \"OCUPMAE\", \"QTDFILVIVO\", \"QTDFILMORT\", \"GRAVIDEZ\", \n",
    "    \"SEMAGESTAC\", \"GESTACAO\", \"PARTO\", \"OBITOPARTO\", \"PESO\", \"TPMORTEOCO\", \n",
    "    \"OBITOGRAV\", \"OBITOPUERP\", \"ASSISTMED\", \"EXAME\", \"CIRURGIA\", \"NECROPSIA\", \n",
    "    \"LINHAA\", \"LINHAB\", \"LINHAC\", \"LINHAD\", \"LINHAII\", \"CAUSABAS\", \"CB_PRE\", \n",
    "    \"COMUNSVOIM\", \"DTATESTADO\", \"CIRCOBITO\", \"ACIDTRAB\", \"FONTE\", \"NUMEROLOTE\", \n",
    "    \"TPPOS\", \"DTINVESTIG\", \"CAUSABAS_O\", \"DTCADASTRO\", \"ATESTANTE\", \"STCODIFICA\", \n",
    "    \"CODIFICADO\", \"VERSAOSIST\", \"VERSAOSCB\", \"FONTEINV\", \"DTRECEBIM\", \n",
    "    \"ATESTADO\", \"DTRECORIGA\", \"CAUSAMAT\", \"ESCMAEAGR1\", \"ESCFALAGR1\", \n",
    "    \"STDOEPIDEM\", \"STDONOVA\", \"DIFDATA\", \"NUDIASOBCO\", \"NUDIASOBIN\", \n",
    "    \"DTCADINV\", \"TPOBITOCOR\", \"DTCONINV\", \"FONTES\", \"TPRESGINFO\", \"TPNIVELINV\", \n",
    "    \"NUDIASINF\", \"DTCADINF\", \"MORTEPARTO\", \"DTCONCASO\", \"FONTESINF\", \"ALTCAUSA\"\n",
    "]"
   ]
  },
  {
   "cell_type": "code",
   "execution_count": 25,
   "metadata": {},
   "outputs": [],
   "source": [
    "# Quantidade de amostras desejadas\n",
    "num_samples = 1000\n",
    "\n",
    "# Criar uma nova lista com amostragem de linhas e seleção de colunas\n",
    "sampled_dataframes = [\n",
    "    df[colunas_desejadas].sample(n=min(num_samples, len(df)), random_state=42)\n",
    "    for df in dataFrameList\n",
    "]\n",
    "\n",
    "# Concatenar os DataFrames amostrados em um único DataFrame\n",
    "final_dataframe = pd.concat(sampled_dataframes, ignore_index=True)"
   ]
  },
  {
   "cell_type": "code",
   "execution_count": 27,
   "metadata": {},
   "outputs": [
    {
     "data": {
      "text/plain": [
       "87"
      ]
     },
     "execution_count": 27,
     "metadata": {},
     "output_type": "execute_result"
    }
   ],
   "source": [
    "final_dataframe.shape[1]"
   ]
  },
  {
   "cell_type": "code",
   "execution_count": 28,
   "metadata": {},
   "outputs": [
    {
     "data": {
      "text/plain": [
       "96"
      ]
     },
     "execution_count": 28,
     "metadata": {},
     "output_type": "execute_result"
    }
   ],
   "source": [
    "final_dataframe.to_sql('concatenated_data', engine, if_exists='replace', index=True)"
   ]
  },
  {
   "cell_type": "markdown",
   "metadata": {},
   "source": [
    "## Uma breve tratativa nos dados"
   ]
  },
  {
   "cell_type": "code",
   "execution_count": 1,
   "metadata": {},
   "outputs": [],
   "source": [
    "from sqlalchemy import create_engine\n",
    "import pandas as pd"
   ]
  },
  {
   "cell_type": "code",
   "execution_count": 2,
   "metadata": {},
   "outputs": [
    {
     "name": "stdout",
     "output_type": "stream",
     "text": [
      "Conexão bem-sucedida!\n"
     ]
    }
   ],
   "source": [
    "# Configurações da conexão\n",
    "usuario = 'postgres'\n",
    "senha = 'dan313852*'\n",
    "host = 'localhost'\n",
    "porta = '5432'\n",
    "banco_de_dados = 'sim_database'\n",
    "\n",
    "# URL de conexão\n",
    "url = f\"postgresql://{usuario}:{senha}@{host}:{porta}/{banco_de_dados}\"\n",
    "\n",
    "engine = create_engine(url)\n",
    "\n",
    "# Teste a conexão\n",
    "try:\n",
    "    connection = engine.connect()\n",
    "    print(\"Conexão bem-sucedida!\")\n",
    "except Exception as e:\n",
    "    print(f\"Erro ao conectar: {e}\")\n",
    "finally:\n",
    "    connection.close()\n"
   ]
  },
  {
   "cell_type": "code",
   "execution_count": 3,
   "metadata": {},
   "outputs": [],
   "source": [
    "df = pd.read_sql_table('concatenated_data', engine)"
   ]
  },
  {
   "cell_type": "code",
   "execution_count": 7,
   "metadata": {},
   "outputs": [
    {
     "name": "stdout",
     "output_type": "stream",
     "text": [
      "O DataFrame possui 9000 linhas e 88 colunas.\n"
     ]
    },
    {
     "data": {
      "text/html": [
       "<div>\n",
       "<style scoped>\n",
       "    .dataframe tbody tr th:only-of-type {\n",
       "        vertical-align: middle;\n",
       "    }\n",
       "\n",
       "    .dataframe tbody tr th {\n",
       "        vertical-align: top;\n",
       "    }\n",
       "\n",
       "    .dataframe thead th {\n",
       "        text-align: right;\n",
       "    }\n",
       "</style>\n",
       "<table border=\"1\" class=\"dataframe\">\n",
       "  <thead>\n",
       "    <tr style=\"text-align: right;\">\n",
       "      <th></th>\n",
       "      <th>index</th>\n",
       "      <th>CONTADOR</th>\n",
       "      <th>ORIGEM</th>\n",
       "      <th>TIPOBITO</th>\n",
       "      <th>DTOBITO</th>\n",
       "      <th>HORAOBITO</th>\n",
       "      <th>NATURAL</th>\n",
       "      <th>CODMUNNATU</th>\n",
       "      <th>DTNASC</th>\n",
       "      <th>IDADE</th>\n",
       "      <th>...</th>\n",
       "      <th>DTCONINV</th>\n",
       "      <th>FONTES</th>\n",
       "      <th>TPRESGINFO</th>\n",
       "      <th>TPNIVELINV</th>\n",
       "      <th>NUDIASINF</th>\n",
       "      <th>DTCADINF</th>\n",
       "      <th>MORTEPARTO</th>\n",
       "      <th>DTCONCASO</th>\n",
       "      <th>FONTESINF</th>\n",
       "      <th>ALTCAUSA</th>\n",
       "    </tr>\n",
       "  </thead>\n",
       "  <tbody>\n",
       "    <tr>\n",
       "      <th>0</th>\n",
       "      <td>0</td>\n",
       "      <td>205490</td>\n",
       "      <td>1</td>\n",
       "      <td>2</td>\n",
       "      <td>22092014</td>\n",
       "      <td>0940</td>\n",
       "      <td>829</td>\n",
       "      <td>292740</td>\n",
       "      <td>25081949</td>\n",
       "      <td>465</td>\n",
       "      <td>...</td>\n",
       "      <td></td>\n",
       "      <td></td>\n",
       "      <td></td>\n",
       "      <td></td>\n",
       "      <td></td>\n",
       "      <td></td>\n",
       "      <td></td>\n",
       "      <td></td>\n",
       "      <td>XXXXXXX</td>\n",
       "      <td></td>\n",
       "    </tr>\n",
       "    <tr>\n",
       "      <th>1</th>\n",
       "      <td>1</td>\n",
       "      <td>39787</td>\n",
       "      <td>1</td>\n",
       "      <td>2</td>\n",
       "      <td>19022014</td>\n",
       "      <td>0600</td>\n",
       "      <td>835</td>\n",
       "      <td>351380</td>\n",
       "      <td>15061993</td>\n",
       "      <td>420</td>\n",
       "      <td>...</td>\n",
       "      <td></td>\n",
       "      <td></td>\n",
       "      <td></td>\n",
       "      <td></td>\n",
       "      <td></td>\n",
       "      <td></td>\n",
       "      <td></td>\n",
       "      <td></td>\n",
       "      <td>XXXXXXX</td>\n",
       "      <td></td>\n",
       "    </tr>\n",
       "    <tr>\n",
       "      <th>2</th>\n",
       "      <td>2</td>\n",
       "      <td>45039</td>\n",
       "      <td>1</td>\n",
       "      <td>2</td>\n",
       "      <td>27022014</td>\n",
       "      <td>1745</td>\n",
       "      <td>835</td>\n",
       "      <td>355580</td>\n",
       "      <td>24031978</td>\n",
       "      <td>435</td>\n",
       "      <td>...</td>\n",
       "      <td></td>\n",
       "      <td></td>\n",
       "      <td></td>\n",
       "      <td></td>\n",
       "      <td></td>\n",
       "      <td></td>\n",
       "      <td></td>\n",
       "      <td></td>\n",
       "      <td>XXXXXXX</td>\n",
       "      <td></td>\n",
       "    </tr>\n",
       "    <tr>\n",
       "      <th>3</th>\n",
       "      <td>3</td>\n",
       "      <td>112993</td>\n",
       "      <td>1</td>\n",
       "      <td>2</td>\n",
       "      <td>29052014</td>\n",
       "      <td>1550</td>\n",
       "      <td>835</td>\n",
       "      <td>352180</td>\n",
       "      <td>14091921</td>\n",
       "      <td>492</td>\n",
       "      <td>...</td>\n",
       "      <td></td>\n",
       "      <td></td>\n",
       "      <td></td>\n",
       "      <td></td>\n",
       "      <td></td>\n",
       "      <td></td>\n",
       "      <td></td>\n",
       "      <td></td>\n",
       "      <td>XXXXXXX</td>\n",
       "      <td></td>\n",
       "    </tr>\n",
       "    <tr>\n",
       "      <th>4</th>\n",
       "      <td>4</td>\n",
       "      <td>232356</td>\n",
       "      <td>1</td>\n",
       "      <td>2</td>\n",
       "      <td>26102014</td>\n",
       "      <td>1435</td>\n",
       "      <td>835</td>\n",
       "      <td>353500</td>\n",
       "      <td>22081930</td>\n",
       "      <td>484</td>\n",
       "      <td>...</td>\n",
       "      <td></td>\n",
       "      <td></td>\n",
       "      <td></td>\n",
       "      <td></td>\n",
       "      <td></td>\n",
       "      <td></td>\n",
       "      <td></td>\n",
       "      <td></td>\n",
       "      <td>XXXXXXX</td>\n",
       "      <td></td>\n",
       "    </tr>\n",
       "  </tbody>\n",
       "</table>\n",
       "<p>5 rows × 88 columns</p>\n",
       "</div>"
      ],
      "text/plain": [
       "   index  CONTADOR  ORIGEM  TIPOBITO   DTOBITO  HORAOBITO  NATURAL  \\\n",
       "0      0  205490    1       2         22092014  0940       829       \n",
       "1      1  39787     1       2         19022014  0600       835       \n",
       "2      2  45039     1       2         27022014  1745       835       \n",
       "3      3  112993    1       2         29052014  1550       835       \n",
       "4      4  232356    1       2         26102014  1435       835       \n",
       "\n",
       "   CODMUNNATU    DTNASC  IDADE  ...  DTCONINV  FONTES  TPRESGINFO  TPNIVELINV  \\\n",
       "0  292740      25081949  465    ...                                             \n",
       "1  351380      15061993  420    ...                                             \n",
       "2  355580      24031978  435    ...                                             \n",
       "3  352180      14091921  492    ...                                             \n",
       "4  353500      22081930  484    ...                                             \n",
       "\n",
       "   NUDIASINF  DTCADINF  MORTEPARTO  DTCONCASO  FONTESINF  ALTCAUSA  \n",
       "0                                              XXXXXXX              \n",
       "1                                              XXXXXXX              \n",
       "2                                              XXXXXXX              \n",
       "3                                              XXXXXXX              \n",
       "4                                              XXXXXXX              \n",
       "\n",
       "[5 rows x 88 columns]"
      ]
     },
     "execution_count": 7,
     "metadata": {},
     "output_type": "execute_result"
    }
   ],
   "source": [
    "print(f\"O DataFrame possui {df.shape[0]} linhas e {df.shape[1]} colunas.\")\n",
    "\n",
    "df.head()"
   ]
  },
  {
   "cell_type": "markdown",
   "metadata": {},
   "source": [
    "### Removendo espaços em branco"
   ]
  },
  {
   "cell_type": "code",
   "execution_count": 8,
   "metadata": {},
   "outputs": [
    {
     "name": "stdout",
     "output_type": "stream",
     "text": [
      "O DataFrame possui 9000 linhas e 88 colunas.\n"
     ]
    }
   ],
   "source": [
    "## Removendo espaços em branco à esquerda e à direita\n",
    "df_filtered = df.apply(lambda x: x.str.strip() if x.dtype == \"object\" else x)\n",
    "\n",
    "print(f\"O DataFrame possui {df_filtered.shape[0]} linhas e {df_filtered.shape[1]} colunas.\")"
   ]
  },
  {
   "cell_type": "code",
   "execution_count": 14,
   "metadata": {},
   "outputs": [],
   "source": [
    "## Listando a coluna e o número máxima de caracteres em cada uma delas\n",
    "max_length = df_filtered.apply(lambda x: x.astype(str).str.len().max())"
   ]
  },
  {
   "cell_type": "code",
   "execution_count": 16,
   "metadata": {},
   "outputs": [
    {
     "name": "stdout",
     "output_type": "stream",
     "text": [
      "index: 4\n",
      "CONTADOR: 7\n",
      "ORIGEM: 1\n",
      "TIPOBITO: 1\n",
      "DTOBITO: 8\n",
      "HORAOBITO: 4\n",
      "NATURAL: 3\n",
      "CODMUNNATU: 6\n",
      "DTNASC: 8\n",
      "IDADE: 3\n",
      "SEXO: 1\n",
      "RACACOR: 1\n",
      "ESTCIV: 1\n",
      "ESC: 1\n",
      "ESC2010: 1\n",
      "SERIESCFAL: 1\n",
      "OCUP: 6\n",
      "CODMUNRES: 6\n",
      "LOCOCOR: 1\n",
      "CODESTAB: 7\n",
      "ESTABDESCR: 40\n",
      "CODMUNOCOR: 6\n",
      "IDADEMAE: 2\n",
      "ESCMAE: 1\n",
      "ESCMAE2010: 1\n",
      "SERIESCMAE: 1\n",
      "OCUPMAE: 6\n",
      "QTDFILVIVO: 2\n",
      "QTDFILMORT: 2\n",
      "GRAVIDEZ: 1\n",
      "SEMAGESTAC: 2\n",
      "GESTACAO: 1\n",
      "PARTO: 1\n",
      "OBITOPARTO: 1\n",
      "PESO: 4\n",
      "TPMORTEOCO: 1\n",
      "OBITOGRAV: 1\n",
      "OBITOPUERP: 1\n",
      "ASSISTMED: 1\n",
      "EXAME: 1\n",
      "CIRURGIA: 1\n",
      "NECROPSIA: 1\n",
      "LINHAA: 20\n",
      "LINHAB: 20\n",
      "LINHAC: 15\n",
      "LINHAD: 15\n",
      "LINHAII: 30\n",
      "CAUSABAS: 4\n",
      "CB_PRE: 0\n",
      "COMUNSVOIM: 6\n",
      "DTATESTADO: 8\n",
      "CIRCOBITO: 1\n",
      "ACIDTRAB: 1\n",
      "FONTE: 1\n",
      "NUMEROLOTE: 8\n",
      "TPPOS: 1\n",
      "DTINVESTIG: 8\n",
      "CAUSABAS_O: 4\n",
      "DTCADASTRO: 8\n",
      "ATESTANTE: 1\n",
      "STCODIFICA: 1\n",
      "CODIFICADO: 1\n",
      "VERSAOSIST: 6\n",
      "VERSAOSCB: 3\n",
      "FONTEINV: 1\n",
      "DTRECEBIM: 8\n",
      "ATESTADO: 50\n",
      "DTRECORIGA: 8\n",
      "CAUSAMAT: 0\n",
      "ESCMAEAGR1: 2\n",
      "ESCFALAGR1: 2\n",
      "STDOEPIDEM: 1\n",
      "STDONOVA: 1\n",
      "DIFDATA: 4\n",
      "NUDIASOBCO: 4\n",
      "NUDIASOBIN: 4\n",
      "DTCADINV: 8\n",
      "TPOBITOCOR: 1\n",
      "DTCONINV: 8\n",
      "FONTES: 6\n",
      "TPRESGINFO: 1\n",
      "TPNIVELINV: 1\n",
      "NUDIASINF: 4\n",
      "DTCADINF: 8\n",
      "MORTEPARTO: 1\n",
      "DTCONCASO: 8\n",
      "FONTESINF: 7\n",
      "ALTCAUSA: 1\n"
     ]
    }
   ],
   "source": [
    "for coluna, tamanho in max_length.items():\n",
    "    print(f\"{coluna}: {tamanho}\")"
   ]
  },
  {
   "cell_type": "code",
   "execution_count": 21,
   "metadata": {},
   "outputs": [
    {
     "data": {
      "text/plain": [
       "96"
      ]
     },
     "execution_count": 21,
     "metadata": {},
     "output_type": "execute_result"
    }
   ],
   "source": [
    "## Inserindo os dados no banco de dados\n",
    "df_filtered.to_sql('clean_data', engine, if_exists='replace', index=False)"
   ]
  },
  {
   "cell_type": "code",
   "execution_count": 22,
   "metadata": {},
   "outputs": [
    {
     "data": {
      "text/plain": [
       "index         4\n",
       "CONTADOR      7\n",
       "ORIGEM        1\n",
       "TIPOBITO      1\n",
       "DTOBITO       8\n",
       "             ..\n",
       "DTCADINF      8\n",
       "MORTEPARTO    1\n",
       "DTCONCASO     8\n",
       "FONTESINF     7\n",
       "ALTCAUSA      1\n",
       "Length: 88, dtype: int64"
      ]
     },
     "execution_count": 22,
     "metadata": {},
     "output_type": "execute_result"
    }
   ],
   "source": [
    "max_length2 = df_filtered.apply(lambda x: x.astype(str).str.len().max())\n",
    "max_length2"
   ]
  },
  {
   "cell_type": "code",
   "execution_count": 23,
   "metadata": {},
   "outputs": [
    {
     "data": {
      "text/plain": [
       "88"
      ]
     },
     "execution_count": 23,
     "metadata": {},
     "output_type": "execute_result"
    }
   ],
   "source": [
    "# Inserindo max_length2 no banco de dados\n",
    "max_length2.to_sql('max_length', engine, if_exists='replace', index=True)"
   ]
  }
 ],
 "metadata": {
  "kernelspec": {
   "display_name": "base",
   "language": "python",
   "name": "python3"
  },
  "language_info": {
   "codemirror_mode": {
    "name": "ipython",
    "version": 3
   },
   "file_extension": ".py",
   "mimetype": "text/x-python",
   "name": "python",
   "nbconvert_exporter": "python",
   "pygments_lexer": "ipython3",
   "version": "3.11.7"
  }
 },
 "nbformat": 4,
 "nbformat_minor": 2
}
