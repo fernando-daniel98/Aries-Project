{
 "cells": [
  {
   "cell_type": "markdown",
   "metadata": {},
   "source": [
    "# Filtragem dos dados nos arquivos csv\n",
    "Essa filtragem é necessária para que seja trabalhado apenas com os atributos de interesse.\n",
    "Acredito fortemente que dê para colocar esse script em Python e criar uma rotina para a filtragem de arquivos parquet. Será útil, uma vez que os arquivos provindos do PySUS são em formato parquet.\n",
    "\n",
    "O parâmetros inseridos nesse programa estão modularizados, por isso foi possível criar um script para filtrar qualquer tipo de tabela. Desde as variáveis de interesse até a específica tabela, pode-se passar para a filtragem."
   ]
  },
  {
   "cell_type": "markdown",
   "metadata": {},
   "source": [
    "## Buscando o diretório raiz\n",
    "Estarei utilizando a biblioteca os."
   ]
  },
  {
   "cell_type": "code",
   "execution_count": 1,
   "metadata": {},
   "outputs": [],
   "source": [
    "import os"
   ]
  },
  {
   "cell_type": "code",
   "execution_count": 2,
   "metadata": {},
   "outputs": [],
   "source": [
    "def getParquetFilePath(rootPath, rootFolderName, databaseName, area, typeData, year):\n",
    "    return os.path.join(rootPath, rootFolderName, databaseName, area, typeData, year)"
   ]
  },
  {
   "cell_type": "code",
   "execution_count": 4,
   "metadata": {},
   "outputs": [],
   "source": [
    "rootPath = r'C:\\Users\\Fernando\\Documents\\CEPID - Projeto ARIES\\Dados-Stage'\n",
    "rootFolderName = \"Dados\"\n",
    "databaseName = \"SIH\"\n",
    "area = \"stage\"\n",
    "typeData = \"parquet\"\n",
    "\n",
    "year = 2015\n"
   ]
  },
  {
   "cell_type": "code",
   "execution_count": 5,
   "metadata": {},
   "outputs": [
    {
     "name": "stdout",
     "output_type": "stream",
     "text": [
      "C:\\Users\\Fernando\\Documents\\CEPID - Projeto ARIES\\Dados-Stage\\Dados\\SIH\\stage\\parquet\\2015\n"
     ]
    }
   ],
   "source": [
    "folderPath = getParquetFilePath(rootPath, rootFolderName, databaseName, area, typeData, str(year))\n",
    "print(folderPath)"
   ]
  },
  {
   "cell_type": "markdown",
   "metadata": {},
   "source": [
    "## Buscando o diretório do arquivo a ser carregado"
   ]
  },
  {
   "cell_type": "code",
   "execution_count": null,
   "metadata": {},
   "outputs": [],
   "source": [
    "type_ = \"RD\"\n",
    "uf = \"SP\"\n",
    "\n",
    "# Talvez seja necessário filtrar menos meses a cada iteração.\n",
    "month = [i for i in range(1, 13)]\n",
    "\n",
    "names = []\n",
    "\n",
    "for mo in month:\n",
    "    # Formatar o nome conforme o padrão desejado\n",
    "    nome = f\"{type_}{uf}{str(year)[2:]}{str(mo).zfill(2)}.parquet\"\n",
    "    names.append(nome)\n",
    "\n",
    "# Exibir os resultados\n",
    "print(names)\n"
   ]
  },
  {
   "cell_type": "code",
   "execution_count": null,
   "metadata": {},
   "outputs": [],
   "source": [
    "import pandas as pd"
   ]
  },
  {
   "cell_type": "code",
   "execution_count": null,
   "metadata": {},
   "outputs": [],
   "source": [
    "dataPath = folderPath + \"/\" + names[0]\n",
    "\n",
    "print(dataPath)\n",
    "print(\"/home/ferdanielinux/desktop-linux/scripts-python/proj-aires/Dados/SIH/stage/parquet/2015/RDSP1501.parquet\")"
   ]
  },
  {
   "cell_type": "markdown",
   "metadata": {},
   "source": [
    "## Finalmente filtrando o dataframe carregado"
   ]
  },
  {
   "cell_type": "code",
   "execution_count": null,
   "metadata": {},
   "outputs": [],
   "source": [
    "df = pd.read_parquet(dataPath, columns=var_interesse)\n",
    "\n",
    "df.head()"
   ]
  }
 ],
 "metadata": {
  "kernelspec": {
   "display_name": "base",
   "language": "python",
   "name": "python3"
  },
  "language_info": {
   "codemirror_mode": {
    "name": "ipython",
    "version": 3
   },
   "file_extension": ".py",
   "mimetype": "text/x-python",
   "name": "python",
   "nbconvert_exporter": "python",
   "pygments_lexer": "ipython3",
   "version": "3.11.7"
  }
 },
 "nbformat": 4,
 "nbformat_minor": 2
}
