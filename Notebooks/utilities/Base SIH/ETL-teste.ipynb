{
 "cells": [
  {
   "cell_type": "markdown",
   "metadata": {},
   "source": [
    "# Tempo de execução do processo de ETL"
   ]
  },
  {
   "cell_type": "code",
   "execution_count": null,
   "metadata": {},
   "outputs": [],
   "source": [
    "import time\n",
    "\n",
    "tempoInicio = time.time()\n",
    "\n",
    "## Código\n",
    "\n",
    "tempoExecucao = time.time() - tempoInicio\n",
    "print(\"Tempo de execução em segundos: %f\" % tempoExecucao)"
   ]
  },
  {
   "cell_type": "markdown",
   "metadata": {},
   "source": [
    "## Extração\n",
    "Parte somente da extração dos dados, sem a transformação e carga."
   ]
  },
  {
   "cell_type": "code",
   "execution_count": null,
   "metadata": {},
   "outputs": [],
   "source": [
    "import time\n",
    "\n",
    "tempoInicio = time.time()"
   ]
  },
  {
   "cell_type": "code",
   "execution_count": null,
   "metadata": {},
   "outputs": [],
   "source": [
    "from pysus.ftp.databases.sih import SIH"
   ]
  },
  {
   "cell_type": "code",
   "execution_count": null,
   "metadata": {},
   "outputs": [],
   "source": [
    "sih = SIH().load()"
   ]
  },
  {
   "cell_type": "markdown",
   "metadata": {},
   "source": [
    "### Limitando os arquivos apenas para estimarmos valores\n",
    "Grupo de AIH reduzidas e apenas para o Estado de São Paulo."
   ]
  },
  {
   "cell_type": "code",
   "execution_count": null,
   "metadata": {},
   "outputs": [],
   "source": [
    "group = \"RD\"\n",
    "uf = \"SP\"\n",
    "\n",
    "month = [1, 3, 4, 5, 6, 7, 8, 9, 10, 11, 12]\n",
    "year = [2024]"
   ]
  },
  {
   "cell_type": "code",
   "execution_count": null,
   "metadata": {},
   "outputs": [],
   "source": [
    "files = sih.get_files(group, uf, year, month)\n",
    "\n",
    "print(f\"O numero de arquivos eh: {len(files)}.\")\n",
    "\n",
    "files"
   ]
  },
  {
   "cell_type": "markdown",
   "metadata": {},
   "source": [
    "### Fazendo o download dos dados em formato parquet"
   ]
  },
  {
   "cell_type": "markdown",
   "metadata": {},
   "source": [
    "Fazendo download de apenas onze arquivos."
   ]
  },
  {
   "cell_type": "code",
   "execution_count": null,
   "metadata": {},
   "outputs": [],
   "source": [
    "path = '/home/ferdanielinux/desktop-linux/scripts-python/proj-aires/Dados/SIH/stage/parquet/2024/'"
   ]
  },
  {
   "cell_type": "code",
   "execution_count": null,
   "metadata": {},
   "outputs": [],
   "source": [
    "for file in files:\n",
    "    sih.download(file, local_dir = path)"
   ]
  },
  {
   "cell_type": "code",
   "execution_count": null,
   "metadata": {},
   "outputs": [],
   "source": [
    "tempoFinalExtracao = time.time() - tempoInicio"
   ]
  },
  {
   "cell_type": "code",
   "execution_count": null,
   "metadata": {},
   "outputs": [],
   "source": [
    "print(f\"Totalizando, assim, {int(tempoFinalExtracao/60)} minutos e {(tempoFinalExtracao % 60):.2f} segundos.\")"
   ]
  },
  {
   "cell_type": "markdown",
   "metadata": {},
   "source": [
    "## Transformação\n",
    "Para fazer as transformações, primeiro vamos carregar os dados e depois vamos fazer a transformação."
   ]
  },
  {
   "cell_type": "code",
   "execution_count": null,
   "metadata": {},
   "outputs": [],
   "source": [
    "import time\n",
    "\n",
    "tempoInicio = time.time()"
   ]
  },
  {
   "cell_type": "code",
   "execution_count": null,
   "metadata": {},
   "outputs": [],
   "source": [
    "import pandas as pd\n",
    "import os"
   ]
  },
  {
   "cell_type": "code",
   "execution_count": null,
   "metadata": {},
   "outputs": [],
   "source": [
    "group = \"RD\"\n",
    "uf = \"SP\"\n",
    "\n",
    "year = 2015\n",
    "months = [1, 2, 3]\n",
    "\n",
    "path = f'/home/ferdanielinux/desktop-linux/scripts-python/proj-aires/Dados/SIH/stage/parquet/{year}/'"
   ]
  },
  {
   "cell_type": "code",
   "execution_count": null,
   "metadata": {},
   "outputs": [],
   "source": [
    "files = [f\"{group}{uf}{year-2000}{str(month).zfill(2)}.parquet\" for month in months]\n",
    "\n",
    "files"
   ]
  },
  {
   "cell_type": "markdown",
   "metadata": {},
   "source": [
    "Devido à problemas com o WSL, tive que fazer o carregamento de parte dos dados, não integralmente os 12 arquivos do ano."
   ]
  },
  {
   "cell_type": "code",
   "execution_count": null,
   "metadata": {},
   "outputs": [],
   "source": [
    "dfs = []\n",
    "\n",
    "# Fazendo o carregamento de apenas dos meses 1, 2 e 3\n",
    "for file in files:\n",
    "    full_path = os.path.join(path, file)\n",
    "    df = pd.read_parquet(full_path)\n",
    "    dfs.append(df)"
   ]
  },
  {
   "cell_type": "markdown",
   "metadata": {},
   "source": [
    "### Mostrando os dados carregados"
   ]
  },
  {
   "cell_type": "code",
   "execution_count": null,
   "metadata": {},
   "outputs": [],
   "source": [
    "dfs[0].head()"
   ]
  },
  {
   "cell_type": "code",
   "execution_count": null,
   "metadata": {},
   "outputs": [],
   "source": [
    "dfs[1].head()"
   ]
  },
  {
   "cell_type": "code",
   "execution_count": null,
   "metadata": {},
   "outputs": [],
   "source": [
    "dfs[2].head()"
   ]
  },
  {
   "cell_type": "markdown",
   "metadata": {},
   "source": [
    "### Separando os dados em suas respectivas tabelas"
   ]
  },
  {
   "cell_type": "code",
   "execution_count": null,
   "metadata": {},
   "outputs": [],
   "source": [
    "dimensoes = {   'Dimensão Tempo': \n",
    "                    ['ANO_CMPT', 'MES_CMPT', 'DT_INTER', 'DT_SAIDA'],\n",
    "                    \n",
    "                'Dimensão Localização': \n",
    "                    ['CEP', 'MUNIC_RES', 'MUNIC_MOV'],\n",
    "                    \n",
    "                'Dimensão Hospital': \n",
    "                    ['CGC_HOSP', 'CNES'],\n",
    "                    \n",
    "                'Dimensão Paciente': \n",
    "                    ['NASC', 'SEXO', 'IDADE', 'COD_IDADE', 'NACIONAL', 'INSTRU', 'RACA_COR', 'ETNIA', 'CBOR', 'MORTE'],\n",
    "                    \n",
    "                'Dimensão UTI': \n",
    "                    ['UTI_MES_TO', 'MARCA_UTI', 'VAL_UTI'],\n",
    "                    \n",
    "                'Dimensão Procedimento': \n",
    "                    ['PROC_SOLIC', 'PROC_REA', 'VAL_SH', 'VAL_SP', 'N_AIH', 'VAL_TOT', 'INFEHOSP'],\n",
    "                    \n",
    "                'Dimensão Diagnóstico': \n",
    "                    ['DIAG_PRINC', 'DIAG_SECUN', 'DIAGSEC1', 'DIAGSEC2', 'DIAGSEC3', 'DIAGSEC4', 'DIAGSEC5', \n",
    "                     'DIAGSEC6', 'DIAGSEC7', 'DIAGSEC8', 'DIAGSEC9', 'CID_MORTE', 'CID_ASSO']\n",
    "                }\n",
    "\n",
    "'''\n",
    "    Atributos retirados: IND_VDRL, possivelmente INFEHOSP (verificar se estão vazios).\n",
    "    Atributos adicionados: CID_ASSO.\n",
    "'''"
   ]
  },
  {
   "cell_type": "code",
   "execution_count": null,
   "metadata": {},
   "outputs": [],
   "source": [
    "# Funcao que separa as dimensoes de um DataFrame\n",
    "def separaDimensoes(dataFrame, dimensoes):\n",
    "    dfs = {}\n",
    "    \n",
    "    for dim in dimensoes:\n",
    "        # Cria um DataFrame com as colunas da dimensão\n",
    "        dfs[dim] = dataFrame[dimensoes[dim]]\n",
    "    \n",
    "    return dfs"
   ]
  },
  {
   "cell_type": "code",
   "execution_count": null,
   "metadata": {},
   "outputs": [],
   "source": [
    "# Criando uma lista de listas de DataFrames. Cada lista deve armazenar os DataFrames de um mês e suas sublistas as dimensões.\n",
    "dfs_separados_meses = []\n",
    "\n",
    "for df in dfs:\n",
    "    dfs_separados_meses.append(separaDimensoes(df, dimensoes))"
   ]
  },
  {
   "cell_type": "markdown",
   "metadata": {},
   "source": [
    "### Mostrando os dados após a divisão em dimensões e fatos"
   ]
  },
  {
   "cell_type": "code",
   "execution_count": null,
   "metadata": {},
   "outputs": [],
   "source": [
    "dfs_separados_meses[0]['Dimensão Tempo'].head()"
   ]
  },
  {
   "cell_type": "code",
   "execution_count": null,
   "metadata": {},
   "outputs": [],
   "source": [
    "dfs_separados_meses[0]['Dimensão Localização'].head()"
   ]
  },
  {
   "cell_type": "code",
   "execution_count": null,
   "metadata": {},
   "outputs": [],
   "source": [
    "dfs_separados_meses[1]['Dimensão Tempo'].head()"
   ]
  },
  {
   "cell_type": "code",
   "execution_count": null,
   "metadata": {},
   "outputs": [],
   "source": [
    "dfs_separados_meses[2]['Dimensão Tempo'].head()"
   ]
  },
  {
   "cell_type": "markdown",
   "metadata": {},
   "source": [
    "### Mostrando o tempo de execução do processo de transformação"
   ]
  },
  {
   "cell_type": "code",
   "execution_count": null,
   "metadata": {},
   "outputs": [],
   "source": [
    "tempoFinalTransformacao = time.time() - tempoInicio\n",
    "\n",
    "print(f\"Tempo de transformação: {int(tempoFinalTransformacao/60)} minutos e {(tempoFinalTransformacao % 60):.2f} segundos.\")"
   ]
  },
  {
   "cell_type": "markdown",
   "metadata": {},
   "source": [
    "## Carga\n",
    "Aqui vamos inserir os dados transformados em um banco de dados."
   ]
  },
  {
   "cell_type": "markdown",
   "metadata": {},
   "source": [
    "### Criando uma classe que contém as informacoes de todas as dimensoes"
   ]
  },
  {
   "cell_type": "code",
   "execution_count": null,
   "metadata": {},
   "outputs": [],
   "source": [
    "import pandas as pd\n",
    "import sqlalchemy as sa"
   ]
  },
  {
   "cell_type": "code",
   "execution_count": null,
   "metadata": {},
   "outputs": [],
   "source": [
    "df = pd.read_csv('/home/ferdanielinux/desktop-linux/scripts-python/proj-aires/Dados/SIH/csv/concat/fev-200_amostras_ano.csv', sep = ',', encoding='latin-1')"
   ]
  },
  {
   "cell_type": "code",
   "execution_count": null,
   "metadata": {},
   "outputs": [],
   "source": [
    "df.head()"
   ]
  },
  {
   "cell_type": "code",
   "execution_count": null,
   "metadata": {},
   "outputs": [],
   "source": [
    "# Criando uma classe que instancia tabelas de dimensões do SIH\n",
    "\n",
    "class tabelas:\n",
    "    def __init__(self, dimensao):\n",
    "        \n",
    "        lista_dimensoes = ['Dimensão Tempo', 'Dimensão Localização', 'Dimensão Hospital', 'Dimensão Paciente', \n",
    "                           'Dimensão UTI', 'Dimensão Procedimento', 'Dimensão Diagnóstico', 'Tabela Fato Internação']\n",
    "        \n",
    "        if dimensao not in lista_dimensoes:\n",
    "            raise ValueError('Dimensão inválida.')\n",
    "        else:\n",
    "            self.dimensao = dimensao\n",
    "            \n",
    "        self.colunas = []\n",
    "        if self.dimensao == 'Dimensão Tempo':\n",
    "            self.colunas = ['ANO_CMPT', 'MES_CMPT', 'DT_INTER', 'DT_SAIDA']\n",
    "        elif self.dimensao == 'Dimensão Localização':\n",
    "            self.colunas = ['CEP', 'MUNIC_RES', 'MUNIC_MOV']\n",
    "        elif self.dimensao == 'Dimensão Hospital':\n",
    "            self.colunas = ['CGC_HOSP', 'CNES']\n",
    "        elif self.dimensao == 'Dimensão Paciente':\n",
    "            self.colunas = ['NASC', 'SEXO', 'IDADE', 'COD_IDADE', 'NACIONAL', 'INSTRU', 'RACA_COR', 'ETNIA', 'CBOR', 'MORTE']\n",
    "        elif self.dimensao == 'Dimensão UTI':\n",
    "            self.colunas = ['UTI_MES_TO', 'MARCA_UTI', 'VAL_UTI']\n",
    "        elif self.dimensao == 'Dimensão Procedimento':\n",
    "            self.colunas = ['PROC_SOLIC', 'PROC_REA', 'VAL_SH', 'VAL_SP', 'N_AIH', 'VAL_TOT', 'INFEHOSP']\n",
    "        elif self.dimensao == 'Dimensão Diagnóstico':\n",
    "            self.colunas = ['DIAG_PRINC', 'DIAG_SECUN', 'DIAGSEC1', 'DIAGSEC2', 'DIAGSEC3', 'DIAGSEC4', 'DIAGSEC5', \n",
    "                            'DIAGSEC6', 'DIAGSEC7', 'DIAGSEC8', 'DIAGSEC9', 'CID_MORTE', 'CID_ASSO']\n",
    "        elif self.colunas == 'Tabela Fato Internação':\n",
    "            self.colunas = ['N_AIH', 'NASC', 'SEXO', 'IDADE', 'COD_IDADE', 'NACIONAL', 'INSTRU', 'RACA_COR', 'ETNIA', 'MUNIC_MOV', \n",
    "                            'CBOR', 'MARCA_UTI', 'DIAG_PRINC', 'DIAG_SECUN', 'DIAGSEC1', 'DIAGSEC2', 'DIAGSEC3', 'DIAGSEC4', 'DIAGSEC5', \n",
    "                            'DIAGSEC6', 'DIAGSEC7', 'DIAGSEC8', 'DIAGSEC9', 'VAL_SH', 'VAL_SP', 'VAL_UTI', 'VAL_TOT', 'INFEHOSP', 'MORTE']\n",
    "            \n",
    "        \n",
    "    def __str__(self):\n",
    "        return f'Tabela de {self.dimensao}'\n",
    "    \n",
    "    def get_dimensao(self):\n",
    "        return self.dimensao\n",
    "    \n",
    "    def get_colunas(self):\n",
    "        return self.colunas\n",
    "    \n",
    "    def insere_dados(self, df, conn, namedb):\n",
    "        if self.dimensao == 'Dimensão Tempo':\n",
    "            self.insere_dados_tempo(df, conn, namedb)\n",
    "        elif self.dimensao == 'Dimensão Localização':\n",
    "            self.insere_dados_localizacao(df, conn, namedb)\n",
    "        elif self.dimensao == 'Dimensão Hospital':\n",
    "            self.insere_dados_hospital(df, conn, namedb)\n",
    "        elif self.dimensao == 'Dimensão Paciente':\n",
    "            self.insere_dados_paciente(df, conn, namedb)\n",
    "        elif self.dimensao == 'Dimensão UTI':\n",
    "            self.insere_dados_uti(df, conn, namedb)\n",
    "        elif self.dimensao == 'Dimensão Procedimento':\n",
    "            self.insere_dados_procedimento(df, conn, namedb)\n",
    "        elif self.dimensao == 'Dimensão Diagnóstico':\n",
    "            self.insere_dados_diagnostico(df, conn, namedb)\n",
    "        else:\n",
    "            raise ValueError('Essa tabela não é de dimensão conhecida.')\n",
    "        \n",
    "    def insere_dados_tempo(self, df, conn, namedb):\n",
    "        if self.dimensao == 'Dimensão Tempo':\n",
    "            df.to_sql(namedb, conn, if_exists='append', index=False, dtype={\n",
    "                'ANO_CMPT': sa.VARCHAR(4),\n",
    "                'MES_CMPT': sa.VARCHAR(2),\n",
    "                'DT_INTER': sa.VARCHAR(8),\n",
    "                'DT_SAIDA': sa.VARCHAR(8)}\n",
    "            )\n",
    "        else:\n",
    "            raise ValueError('Essa tabela não é de dimensão tempo.')\n",
    "        \n",
    "    def insere_dados_localizacao(self, df, conn, namedb):\n",
    "        if self.dimensao == 'Dimensão Localização':\n",
    "            df.to_sql(namedb, conn, if_exists='append', index=False, dtype={\n",
    "                'CEP': sa.VARCHAR(8),\n",
    "                'MUNIC_RES': sa.VARCHAR(6),\n",
    "                'MUNIC_MOV': sa.VARCHAR(6)}\n",
    "            )\n",
    "        else:\n",
    "            raise ValueError('Essa tabela não é de dimensão localização.')\n",
    "        \n",
    "    def insere_dados_hospital(self, df, conn, namedb):\n",
    "        if self.dimensao == 'Dimensão Hospital':\n",
    "            df.to_sql(namedb, conn, if_exists='append', index=False, dtype={\n",
    "                'CGC_HOSP': sa.VARCHAR(16),\n",
    "                'CNES': sa.VARCHAR(7)}\n",
    "            )\n",
    "        else:\n",
    "            raise ValueError('Essa tabela não é de dimensão hospital.')\n",
    "        \n",
    "    def insere_dados_paciente(self, df, conn, namedb):\n",
    "        if self.dimensao == 'Dimensão Paciente':\n",
    "            df.to_sql(namedb, conn, if_exists='append', index=False, dtype={\n",
    "                'NASC': sa.VARCHAR(8),\n",
    "                'SEXO': sa.VARCHAR(1),\n",
    "                'IDADE': sa.NUMERIC(2),\n",
    "                'COD_IDADE': sa.VARCHAR(1),\n",
    "                'NACIONAL': sa.VARCHAR(3),\n",
    "                'INSTRU': sa.VARCHAR(1),\n",
    "                'RACA_COR': sa.VARCHAR(2),\n",
    "                'ETNIA': sa.VARCHAR(4),\n",
    "                'CBOR': sa.VARCHAR(6),\n",
    "                'MORTE': sa.NUMERIC(1)}\n",
    "            )\n",
    "        else:\n",
    "            raise ValueError('Essa tabela não é de dimensão paciente.')\n",
    "        \n",
    "    def insere_dados_uti(self, df, conn, namedb):\n",
    "        if self.dimensao == 'Dimensão UTI':\n",
    "            df.to_sql(namedb, conn, if_exists='append', index=False, dtype={\n",
    "                'UTI_MES_TO': sa.NUMERIC(3),\n",
    "                'MARCA_UTI': sa.VARCHAR(2),\n",
    "                'VAL_UTI': sa.NUMERIC(9,2)}\n",
    "            )\n",
    "        else:\n",
    "            raise ValueError('Essa tabela não é de dimensão UTI.')\n",
    "        \n",
    "    def insere_dados_procedimento(self, df, conn, namedb):\n",
    "        if self.dimensao == 'Dimensão Procedimento':\n",
    "            df.to_sql(namedb, conn, if_exists='append', index=False, dtype={\n",
    "                'PROC_SOLIC': sa.VARCHAR(10),\n",
    "                'PROC_REA': sa.VARCHAR(10),\n",
    "                'VAL_SH': sa.NUMERIC(13,2),\n",
    "                'VAL_SP': sa.NUMERIC(13,2),\n",
    "                'N_AIH': sa.VARCHAR(13),\n",
    "                'VAL_TOT': sa.NUMERIC(14,2),\n",
    "                'INFEHOSP': sa.VARCHAR(1)}\n",
    "            )\n",
    "        else:\n",
    "            raise ValueError('Essa tabela não é de dimensão procedimento.')\n",
    "        \n",
    "    def insere_dados_diagnostico(self, df, conn, namedb):\n",
    "        if self.dimensao == 'Dimensão Diagnóstico':\n",
    "            df.to_sql(namedb, conn, if_exists='append', index=False, dtype={\n",
    "                'DIAG_PRINC': sa.VARCHAR(4),\n",
    "                'DIAG_SECUN': sa.VARCHAR(4),\n",
    "                'DIAGSEC1': sa.VARCHAR(4),\n",
    "                'DIAGSEC2': sa.VARCHAR(4),\n",
    "                'DIAGSEC3': sa.VARCHAR(4),\n",
    "                'DIAGSEC4': sa.VARCHAR(4),\n",
    "                'DIAGSEC5': sa.VARCHAR(4),\n",
    "                'DIAGSEC6': sa.VARCHAR(4),\n",
    "                'DIAGSEC7': sa.VARCHAR(4),\n",
    "                'DIAGSEC8': sa.VARCHAR(4),\n",
    "                'DIAGSEC9': sa.VARCHAR(4),\n",
    "                'CID_MORTE': sa.VARCHAR(4),\n",
    "                'CID_ASSO': sa.VARCHAR(4)}\n",
    "            )\n",
    "        else:\n",
    "            raise ValueError('Essa tabela não é de dimensão diagnóstico.')\n",
    "        \n",
    "        \n",
    "    def cria_tabela(self, conn, namedb):\n",
    "        metadata = sa.MetaData()\n",
    "        metadata.reflect(bind=conn)\n",
    "        \n",
    "        if namedb in metadata.tables:\n",
    "            print(f'Tabela {namedb} já existe.')\n",
    "            return\n",
    "        \n",
    "        if self.dimensao == 'Dimensão Tempo':\n",
    "            sa.Table(namedb, sa.MetaData(),\n",
    "                    sa.Column('ANO_CMPT', sa.VARCHAR(4)),\n",
    "                    sa.Column('MES_CMPT', sa.VARCHAR(2)),\n",
    "                    sa.Column('DT_INTER', sa.VARCHAR(8)),\n",
    "                    sa.Column('DT_SAIDA', sa.VARCHAR(8))\n",
    "            ).create(conn)\n",
    "        elif self.dimensao == 'Dimensão Localização':\n",
    "            sa.Table(namedb, sa.MetaData(),\n",
    "                    sa.Column('CEP', sa.VARCHAR(8)),\n",
    "                    sa.Column('MUNIC_RES', sa.VARCHAR(6)),\n",
    "                    sa.Column('MUNIC_MOV', sa.VARCHAR(6))\n",
    "            ).create(conn)\n",
    "        elif self.dimensao == 'Dimensão Hospital':\n",
    "            sa.Table(namedb, sa.MetaData(),\n",
    "                    sa.Column('CGC_HOSP', sa.VARCHAR(16)),\n",
    "                    sa.Column('CNES', sa.VARCHAR(7))\n",
    "            ).create(conn)\n",
    "        elif self.dimensao == 'Dimensão Paciente':\n",
    "            sa.Table(namedb, sa.MetaData(),\n",
    "                    sa.Column('NASC', sa.VARCHAR(8)),\n",
    "                    sa.Column('SEXO', sa.VARCHAR(1)),\n",
    "                    sa.Column('IDADE', sa.NUMERIC(2)),\n",
    "                    sa.Column('COD_IDADE', sa.VARCHAR(1)),\n",
    "                    sa.Column('NACIONAL', sa.VARCHAR(3)),\n",
    "                    sa.Column('INSTRU', sa.VARCHAR(1)),\n",
    "                    sa.Column('RACA_COR', sa.VARCHAR(2)),\n",
    "                    sa.Column('ETNIA', sa.VARCHAR(4)),\n",
    "                    sa.Column('CBOR', sa.VARCHAR(6)),\n",
    "                    # sa.Column('CBOR', sa.VARCHAR(3)), // O dicionário está com 3 caracteres, mas os dados apresentam 6.\n",
    "                    sa.Column('MORTE', sa.NUMERIC(1))\n",
    "            ).create(conn)\n",
    "        elif self.dimensao == 'Dimensão UTI':\n",
    "            sa.Table(namedb, sa.MetaData(),\n",
    "                    sa.Column('UTI_MES_TO', sa.NUMERIC(3)),\n",
    "                    sa.Column('MARCA_UTI', sa.VARCHAR(2)),\n",
    "                    sa.Column('VAL_UTI', sa.NUMERIC(9,2))\n",
    "            ).create(conn)\n",
    "        elif self.dimensao == 'Dimensão Procedimento':\n",
    "            sa.Table(namedb, sa.MetaData(),\n",
    "                    sa.Column('PROC_SOLIC', sa.VARCHAR(10)),\n",
    "                    sa.Column('PROC_REA', sa.VARCHAR(10)),\n",
    "                    sa.Column('VAL_SH', sa.NUMERIC(13,2)),\n",
    "                    sa.Column('VAL_SP', sa.NUMERIC(13,2)),\n",
    "                    sa.Column('N_AIH', sa.VARCHAR(13)),\n",
    "                    sa.Column('VAL_TOT', sa.NUMERIC(14,2)),\n",
    "                    sa.Column('INFEHOSP', sa.VARCHAR(1))\n",
    "            ).create(conn)\n",
    "        elif self.dimensao == 'Dimensão Diagnóstico':\n",
    "            sa.Table(namedb, sa.MetaData(),\n",
    "                    sa.Column('DIAG_PRINC', sa.VARCHAR(4)),\n",
    "                    sa.Column('DIAG_SECUN', sa.VARCHAR(4)),\n",
    "                    sa.Column('DIAGSEC1', sa.VARCHAR(4)),\n",
    "                    sa.Column('DIAGSEC2', sa.VARCHAR(4)),\n",
    "                    sa.Column('DIAGSEC3', sa.VARCHAR(4)),\n",
    "                    sa.Column('DIAGSEC4', sa.VARCHAR(4)),\n",
    "                    sa.Column('DIAGSEC5', sa.VARCHAR(4)),\n",
    "                    sa.Column('DIAGSEC6', sa.VARCHAR(4)),\n",
    "                    sa.Column('DIAGSEC7', sa.VARCHAR(4)),\n",
    "                    sa.Column('DIAGSEC8', sa.VARCHAR(4)),\n",
    "                    sa.Column('DIAGSEC9', sa.VARCHAR(4)),\n",
    "                    sa.Column('CID_MORTE', sa.VARCHAR(4)),\n",
    "                    sa.Column('CID_ASSO', sa.VARCHAR(4))\n",
    "            ).create(conn)\n",
    "        else:\n",
    "            raise ValueError('Essa tabela não é de dimensão conhecida.')\n",
    "        \n",
    "    def remove_tabela(self, conn, namedb):\n",
    "        metadata = sa.MetaData()\n",
    "        metadata.reflect(bind=conn)\n",
    "        \n",
    "        if namedb not in metadata.tables:\n",
    "            print(f'Tabela {namedb} não existe.')\n",
    "            return\n",
    "        \n",
    "        if self.dimensao == 'Dimensão Tempo':\n",
    "            sa.Table(namedb, sa.MetaData(),\n",
    "                    sa.Column('ANO_CMPT', sa.VARCHAR(4)),\n",
    "                    sa.Column('MES_CMPT', sa.VARCHAR(2)),\n",
    "                    sa.Column('DT_INTER', sa.VARCHAR(8)),\n",
    "                    sa.Column('DT_SAIDA', sa.VARCHAR(8))\n",
    "            ).drop(conn)\n",
    "        elif self.dimensao == 'Dimensão Localização':\n",
    "            sa.Table(namedb, sa.MetaData(),\n",
    "                    sa.Column('CEP', sa.VARCHAR(8)),\n",
    "                    sa.Column('MUNIC_RES', sa.VARCHAR(6)),\n",
    "                    sa.Column('MUNIC_MOV', sa.VARCHAR(6))\n",
    "            ).drop(conn)\n",
    "        elif self.dimensao == 'Dimensão Hospital':\n",
    "            sa.Table(namedb, sa.MetaData(),\n",
    "                    sa.Column('CGC_HOSP', sa.VARCHAR(16)),\n",
    "                    sa.Column('CNES', sa.VARCHAR(7))\n",
    "            ).drop(conn)\n",
    "        elif self.dimensao == 'Dimensão Paciente':\n",
    "            sa.Table(namedb, sa.MetaData(),\n",
    "                    sa.Column('NASC', sa.VARCHAR(8)),\n",
    "                    sa.Column('SEXO', sa.VARCHAR(1)),\n",
    "                    sa.Column('IDADE', sa.NUMERIC(2)),\n",
    "                    sa.Column('COD_IDADE', sa.VARCHAR(1)),\n",
    "                    sa.Column('NACIONAL', sa.VARCHAR(3)),\n",
    "                    sa.Column('INSTRU', sa.VARCHAR(1)),\n",
    "                    sa.Column('RACA_COR', sa.VARCHAR(2)),\n",
    "                    sa.Column('ETNIA', sa.VARCHAR(4)),\n",
    "                    sa.Column('CBOR', sa.VARCHAR(6)),\n",
    "                    # sa.Column('CBOR', sa.VARCHAR(3)),\n",
    "                    sa.Column('MORTE', sa.NUMERIC(1))\n",
    "            ).drop(conn)\n",
    "        elif self.dimensao == 'Dimensão UTI':\n",
    "            sa.Table(namedb, sa.MetaData(),\n",
    "                    sa.Column('UTI_MES_TO', sa.NUMERIC(3)),\n",
    "                    sa.Column('MARCA_UTI', sa.VARCHAR(2)),\n",
    "                    sa.Column('VAL_UTI', sa.NUMERIC(9,2))\n",
    "            ).drop(conn)\n",
    "        elif self.dimensao == 'Dimensão Procedimento':\n",
    "            sa.Table(namedb, sa.MetaData(),\n",
    "                    sa.Column('PROC_SOLIC', sa.VARCHAR(10)),\n",
    "                    sa.Column('PROC_REA', sa.VARCHAR(10)),\n",
    "                    sa.Column('VAL_SH', sa.NUMERIC(13,2)),\n",
    "                    sa.Column('VAL_SP', sa.NUMERIC(13,2)),\n",
    "                    sa.Column('N_AIH', sa.VARCHAR(13)),\n",
    "                    sa.Column('VAL_TOT', sa.NUMERIC(14,2)),\n",
    "                    sa.Column('INFEHOSP', sa.VARCHAR(1))\n",
    "            ).drop(conn)\n",
    "        elif self.dimensao == 'Dimensão Diagnóstico':\n",
    "            sa.Table(namedb, sa.MetaData(),\n",
    "                    sa.Column('DIAG_PRINC', sa.VARCHAR(4)),\n",
    "                    sa.Column('DIAG_SECUN', sa.VARCHAR(4)),\n",
    "                    sa.Column('DIAGSEC1', sa.VARCHAR(4)),\n",
    "                    sa.Column('DIAGSEC2', sa.VARCHAR(4)),\n",
    "                    sa.Column('DIAGSEC3', sa.VARCHAR(4)),\n",
    "                    sa.Column('DIAGSEC4', sa.VARCHAR(4)),\n",
    "                    sa.Column('DIAGSEC5', sa.VARCHAR(4)),\n",
    "                    sa.Column('DIAGSEC6', sa.VARCHAR(4)),\n",
    "                    sa.Column('DIAGSEC7', sa.VARCHAR(4)),\n",
    "                    sa.Column('DIAGSEC8', sa.VARCHAR(4)),\n",
    "                    sa.Column('DIAGSEC9', sa.VARCHAR(4)),\n",
    "                    sa.Column('CID_MORTE', sa.VARCHAR(4)),\n",
    "                    sa.Column('CID_ASSO', sa.VARCHAR(4))\n",
    "            ).drop(conn)\n",
    "        else:\n",
    "            raise ValueError('Essa tabela não é de dimensão conhecida.')\n",
    "        \n",
    "    def limpando_tabela(self, conn, namedb):\n",
    "        metadata = sa.MetaData()\n",
    "        metadata.reflect(bind=conn)\n",
    "        \n",
    "        if namedb not in metadata.tables:\n",
    "            print(f'Tabela {namedb} não existe.')\n",
    "            return\n",
    "        \n",
    "        conn.execute(f\"DELETE FROM {namedb}\")"
   ]
  },
  {
   "cell_type": "markdown",
   "metadata": {},
   "source": [
    "### Criando a conexão"
   ]
  },
  {
   "cell_type": "code",
   "execution_count": null,
   "metadata": {},
   "outputs": [],
   "source": [
    "## CONECTANDO PELO WSL\n",
    "\n",
    "# Configurações do banco de dados presentes no meu computador\n",
    "usuario = 'postgres'\n",
    "senha = '123,258D'\n",
    "host = 'localhost'\n",
    "porta = '5432'\n",
    "banco_de_dados = 'my_test'\n",
    "\n",
    "# URL de conexão\n",
    "url = f\"postgresql://{usuario}:{senha}@{host}:{porta}/{banco_de_dados}\"\n",
    "\n",
    "# Criar o engine\n",
    "engine = sa.create_engine(url)\n",
    "\n",
    "# Teste a conexão\n",
    "try:\n",
    "    connection = engine.connect()\n",
    "    print(\"Conexão bem-sucedida!\")\n",
    "except Exception as e:\n",
    "    print(f\"Erro ao conectar: {e}\")\n",
    "finally:\n",
    "    connection.close()\n"
   ]
  },
  {
   "cell_type": "code",
   "execution_count": null,
   "metadata": {},
   "outputs": [],
   "source": [
    "# CONECTANDO PELO BANCO DO WINDOWS\n",
    "\n",
    "# Configurações do banco de dados presentes no meu computador\n",
    "usuario = 'postgres'\n",
    "senha = 'dan313852*'\n",
    "host = 'localhost'\n",
    "porta = '5432'\n",
    "banco_de_dados = 'fato_hospital'\n",
    "\n",
    "# URL de conexão\n",
    "url = f\"postgresql://{usuario}:{senha}@{host}:{porta}/{banco_de_dados}\"\n",
    "\n",
    "# Criar o engine\n",
    "engine = sa.create_engine(url)\n",
    "\n",
    "# Teste a conexão\n",
    "try:\n",
    "    connection = engine.connect()\n",
    "    print(\"Conexão bem-sucedida!\")\n",
    "except Exception as e:\n",
    "    print(f\"Erro ao conectar: {e}\")\n",
    "finally:\n",
    "    connection.close()\n"
   ]
  },
  {
   "cell_type": "markdown",
   "metadata": {},
   "source": [
    "### Exemplo para a dimensão de tempo"
   ]
  },
  {
   "cell_type": "code",
   "execution_count": null,
   "metadata": {},
   "outputs": [],
   "source": [
    "table_tempo = tabelas('Dimensão Tempo')\n",
    "\n",
    "df_tempo = df.filter(items = table_tempo.get_colunas())\n",
    "\n",
    "df_tempo.head(10)"
   ]
  },
  {
   "cell_type": "code",
   "execution_count": null,
   "metadata": {},
   "outputs": [],
   "source": [
    "table_tempo.remove_tabela(engine, 'tempo')"
   ]
  },
  {
   "cell_type": "code",
   "execution_count": null,
   "metadata": {},
   "outputs": [],
   "source": [
    "# Criando a tabela no banco de dados\n",
    "table_tempo.cria_tabela(engine, 'tempo')"
   ]
  },
  {
   "cell_type": "code",
   "execution_count": null,
   "metadata": {},
   "outputs": [],
   "source": [
    "# Inserindo dados na tabela criada\n",
    "table_tempo.insere_dados(df_tempo.head(10), engine, 'tempo')"
   ]
  },
  {
   "cell_type": "markdown",
   "metadata": {},
   "source": [
    "### Fazendo para as demais dimensões"
   ]
  },
  {
   "cell_type": "code",
   "execution_count": null,
   "metadata": {},
   "outputs": [],
   "source": [
    "table_tempo = tabelas('Dimensão Tempo')\n",
    "table_localizacao = tabelas('Dimensão Localização')\n",
    "table_hospital = tabelas('Dimensão Hospital')\n",
    "table_paciente = tabelas('Dimensão Paciente')\n",
    "table_uti = tabelas('Dimensão UTI')\n",
    "table_procedimento = tabelas('Dimensão Procedimento')\n",
    "table_diagnostico = tabelas('Dimensão Diagnóstico')"
   ]
  },
  {
   "cell_type": "markdown",
   "metadata": {},
   "source": [
    "Removendo as tabelas para fazer testes."
   ]
  },
  {
   "cell_type": "code",
   "execution_count": null,
   "metadata": {},
   "outputs": [],
   "source": [
    "table_tempo.remove_tabela(engine, 'tempo')\n",
    "table_localizacao.remove_tabela(engine, 'localizacao')\n",
    "table_hospital.remove_tabela(engine, 'hospital')\n",
    "table_paciente.remove_tabela(engine, 'paciente')\n",
    "table_uti.remove_tabela(engine, 'uti')\n",
    "table_procedimento.remove_tabela(engine, 'procedimento')\n",
    "table_diagnostico.remove_tabela(engine, 'diagnostico')"
   ]
  },
  {
   "cell_type": "code",
   "execution_count": null,
   "metadata": {},
   "outputs": [],
   "source": [
    "df_tempo = df.filter(items = table_tempo.get_colunas())\n",
    "df_localizacao = df.filter(items = table_localizacao.get_colunas())\n",
    "df_hospital = df.filter(items = table_hospital.get_colunas())\n",
    "df_paciente = df.filter(items = table_paciente.get_colunas())\n",
    "df_uti = df.filter(items = table_uti.get_colunas())\n",
    "df_procedimento = df.filter(items = table_procedimento.get_colunas())\n",
    "df_diagnostico = df.filter(items = table_diagnostico.get_colunas())"
   ]
  },
  {
   "cell_type": "code",
   "execution_count": null,
   "metadata": {},
   "outputs": [],
   "source": [
    "table_tempo.cria_tabela(engine, 'tempo')\n",
    "table_localizacao.cria_tabela(engine, 'localizacao')\n",
    "table_hospital.cria_tabela(engine, 'hospital')\n",
    "table_paciente.cria_tabela(engine, 'paciente')\n",
    "table_uti.cria_tabela(engine, 'uti')\n",
    "table_procedimento.cria_tabela(engine, 'procedimento')\n",
    "table_diagnostico.cria_tabela(engine, 'diagnostico')\n",
    "\n"
   ]
  },
  {
   "cell_type": "code",
   "execution_count": null,
   "metadata": {},
   "outputs": [],
   "source": [
    "df_paciente.head(10)"
   ]
  },
  {
   "cell_type": "code",
   "execution_count": null,
   "metadata": {},
   "outputs": [],
   "source": [
    "table_localizacao.insere_dados(df_localizacao.head(10), engine, 'localizacao')\n",
    "table_hospital.insere_dados(df_hospital.head(10), engine, 'hospital')\n",
    "table_paciente.insere_dados(df_paciente.head(10), engine, 'paciente')\n",
    "table_uti.insere_dados(df_uti.head(10), engine, 'uti')\n",
    "table_procedimento.insere_dados(df_procedimento.head(10), engine, 'procedimento')\n",
    "table_diagnostico.insere_dados(df_diagnostico.head(10), engine, 'diagnostico')"
   ]
  }
 ],
 "metadata": {
  "kernelspec": {
   "display_name": "PyAries",
   "language": "python",
   "name": "python3"
  },
  "language_info": {
   "codemirror_mode": {
    "name": "ipython",
    "version": 3
   },
   "file_extension": ".py",
   "mimetype": "text/x-python",
   "name": "python",
   "nbconvert_exporter": "python",
   "pygments_lexer": "ipython3",
   "version": "3.10.12"
  }
 },
 "nbformat": 4,
 "nbformat_minor": 2
}
