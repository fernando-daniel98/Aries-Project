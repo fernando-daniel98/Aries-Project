{
 "cells": [
  {
   "cell_type": "markdown",
   "metadata": {},
   "source": [
    "# Estudando sobre os métodos e dados do CNES\n",
    "É uma fonte de dados incrementais, ou seja deve-se utilizar o mais atualizado possível, já que os registros estarão mais atuais."
   ]
  },
  {
   "cell_type": "code",
   "execution_count": 1,
   "metadata": {},
   "outputs": [],
   "source": [
    "from pysus.ftp.databases.cnes import CNES\n",
    "cnes = CNES()"
   ]
  },
  {
   "cell_type": "code",
   "execution_count": 2,
   "metadata": {},
   "outputs": [
    {
     "data": {
      "text/plain": [
       "CNES - Cadastro Nacional de Estabelecimentos de Saúde"
      ]
     },
     "execution_count": 2,
     "metadata": {},
     "output_type": "execute_result"
    }
   ],
   "source": [
    "cnes.load()"
   ]
  },
  {
   "cell_type": "code",
   "execution_count": 3,
   "metadata": {},
   "outputs": [
    {
     "data": {
      "text/plain": [
       "{'DC': 'Dados Complementares',\n",
       " 'EE': 'Estabelecimento de Ensino',\n",
       " 'EF': 'Estabelecimento Filantrópico',\n",
       " 'EP': 'Equipes',\n",
       " 'EQ': 'Equipamentos',\n",
       " 'GM': 'Gestão e Metas',\n",
       " 'HB': 'Habilitação',\n",
       " 'IN': 'Incentivos',\n",
       " 'LT': 'Leitos',\n",
       " 'PF': 'Profissional',\n",
       " 'RC': 'Regra Contratual',\n",
       " 'SR': 'Serviço Especializado',\n",
       " 'ST': 'Estabelecimentos'}"
      ]
     },
     "execution_count": 3,
     "metadata": {},
     "output_type": "execute_result"
    }
   ],
   "source": [
    "cnes.groups"
   ]
  },
  {
   "cell_type": "code",
   "execution_count": null,
   "metadata": {},
   "outputs": [],
   "source": [
    "group = \"ST\"\n",
    "uf = \"SP\"\n",
    "\n",
    "# Fonte de dados incrementais, portanto não há necessidade de baixar todos os dados anteriores ao mais atualizado.\n",
    "# year = [i for i in range(2014, 2024+1)]\n",
    "# month = [i for i in range(1, 12+1)]\n",
    "\n",
    "year = 2024\n",
    "month = 10"
   ]
  },
  {
   "cell_type": "code",
   "execution_count": 18,
   "metadata": {},
   "outputs": [
    {
     "data": {
      "text/plain": [
       "0"
      ]
     },
     "execution_count": 18,
     "metadata": {},
     "output_type": "execute_result"
    }
   ],
   "source": [
    "len(cnes.get_files(group, uf = uf, year = year, month = month))"
   ]
  },
  {
   "cell_type": "code",
   "execution_count": null,
   "metadata": {},
   "outputs": [],
   "source": [
    "files = cnes.get_files(group, uf = uf, year = year, month = month)"
   ]
  },
  {
   "cell_type": "code",
   "execution_count": null,
   "metadata": {},
   "outputs": [
    {
     "name": "stdout",
     "output_type": "stream",
     "text": [
      "{'name': 'STSP2410.dbc', 'group': 'Estabelecimentos', 'uf': 'São Paulo', 'month': 'Outubro', 'year': 2024, 'size': '4.9 MB', 'last_update': '2024-11-13 01:26PM'}\n"
     ]
    }
   ],
   "source": [
    "# Tamanho dos dados\n",
    "tam = 0\n",
    "\n",
    "for file in files:\n",
    "    tam += int (file.__info__[\"size\"])\n",
    "    print(cnes.describe(file))"
   ]
  },
  {
   "cell_type": "code",
   "execution_count": 25,
   "metadata": {},
   "outputs": [
    {
     "name": "stdout",
     "output_type": "stream",
     "text": [
      "Tamanho eh igual a 470741030 B = 459708.037109375 KB = 448.933629989624 MB = 0.4384117480367422 GB.\n"
     ]
    }
   ],
   "source": [
    "print(f\"Tamanho eh igual a {tam} B = {tam/1024} KB = {tam/(1024*1024)} MB = {tam/(1024*1024*1024)} GB.\")"
   ]
  },
  {
   "cell_type": "markdown",
   "metadata": {},
   "source": [
    "## Colocando na área de stage"
   ]
  },
  {
   "cell_type": "code",
   "execution_count": null,
   "metadata": {},
   "outputs": [],
   "source": [
    "stage_path = '/home/ferdanielinux/desktop-linux/scripts-python/proj-aires/Dados/CNES/stage/parquet'"
   ]
  },
  {
   "cell_type": "code",
   "execution_count": null,
   "metadata": {},
   "outputs": [
    {
     "name": "stderr",
     "output_type": "stream",
     "text": [
      "STSP2410.parquet: 100%|██████████| 258k/258k [02:31<00:00, 1.70kB/s]\n"
     ]
    }
   ],
   "source": [
    "parquets = cnes.download(files, local_dir = stage_path)"
   ]
  },
  {
   "cell_type": "markdown",
   "metadata": {},
   "source": [
    "## Analisando os atributos"
   ]
  },
  {
   "cell_type": "code",
   "execution_count": 25,
   "metadata": {},
   "outputs": [],
   "source": [
    "import pandas as pd"
   ]
  },
  {
   "cell_type": "code",
   "execution_count": 26,
   "metadata": {},
   "outputs": [],
   "source": [
    "dataPath = '/home/ferdanielinux/desktop-linux/scripts-python/proj-aires/Dados/CNES/stage/parquet/STSP2410.parquet'"
   ]
  },
  {
   "cell_type": "code",
   "execution_count": 27,
   "metadata": {},
   "outputs": [],
   "source": [
    "df = pd.read_parquet(dataPath)"
   ]
  },
  {
   "cell_type": "code",
   "execution_count": 29,
   "metadata": {},
   "outputs": [
    {
     "name": "stdout",
     "output_type": "stream",
     "text": [
      "Número de linhas:  103234\n",
      "Número de colunas:  208\n"
     ]
    }
   ],
   "source": [
    "print(\"Número de linhas: \", df.shape[0])\n",
    "print(\"Número de colunas: \", df.shape[1])"
   ]
  },
  {
   "cell_type": "code",
   "execution_count": 40,
   "metadata": {},
   "outputs": [
    {
     "data": {
      "text/plain": [
       "Index(['CNES', 'CODUFMUN', 'COD_CEP', 'CPF_CNPJ', 'PF_PJ', 'NIV_DEP',\n",
       "       'CNPJ_MAN', 'COD_IR', 'REGSAUDE', 'MICR_REG',\n",
       "       ...\n",
       "       'AP07CV02', 'AP07CV03', 'AP07CV04', 'AP07CV05', 'AP07CV06', 'AP07CV07',\n",
       "       'ATEND_PR', 'DT_ATUAL', 'COMPETEN', 'NAT_JUR'],\n",
       "      dtype='object', length=208)"
      ]
     },
     "execution_count": 40,
     "metadata": {},
     "output_type": "execute_result"
    }
   ],
   "source": [
    "df.columns"
   ]
  },
  {
   "cell_type": "markdown",
   "metadata": {},
   "source": [
    "### Inserindo no banco de dados para ver os dados melhor"
   ]
  },
  {
   "cell_type": "code",
   "execution_count": 43,
   "metadata": {},
   "outputs": [],
   "source": [
    "from sqlalchemy import create_engine\n",
    "\n",
    "# Configurações da conexão\n",
    "usuario = 'postgres'\n",
    "senha = '123,258D'\n",
    "host = 'localhost'\n",
    "porta = '5432'\n",
    "banco_de_dados = 'Stage-CNES'\n",
    "\n",
    "# URL de conexão\n",
    "url = f\"postgresql://{usuario}:{senha}@{host}:{porta}/{banco_de_dados}\""
   ]
  },
  {
   "cell_type": "code",
   "execution_count": 44,
   "metadata": {},
   "outputs": [
    {
     "name": "stdout",
     "output_type": "stream",
     "text": [
      "Conexão bem-sucedida!\n"
     ]
    }
   ],
   "source": [
    "engine = create_engine(url)\n",
    "\n",
    "# Teste a conexão\n",
    "try:\n",
    "    connection = engine.connect()\n",
    "    print(\"Conexão bem-sucedida!\")\n",
    "except Exception as e:\n",
    "    print(f\"Erro ao conectar: {e}\")\n",
    "finally:\n",
    "    connection.close()"
   ]
  }
 ],
 "metadata": {
  "kernelspec": {
   "display_name": "PyAries",
   "language": "python",
   "name": "python3"
  },
  "language_info": {
   "codemirror_mode": {
    "name": "ipython",
    "version": 3
   },
   "file_extension": ".py",
   "mimetype": "text/x-python",
   "name": "python",
   "nbconvert_exporter": "python",
   "pygments_lexer": "ipython3",
   "version": "3.10.12"
  }
 },
 "nbformat": 4,
 "nbformat_minor": 2
}
